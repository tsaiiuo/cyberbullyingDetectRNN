{
  "nbformat": 4,
  "nbformat_minor": 0,
  "metadata": {
    "colab": {
      "name": "網路霸凌分類.ipynb",
      "provenance": [],
      "collapsed_sections": [],
      "toc_visible": true,
      "include_colab_link": true
    },
    "kernelspec": {
      "name": "python3",
      "display_name": "Python 3"
    },
    "language_info": {
      "name": "python"
    },
    "accelerator": "GPU"
  },
  "cells": [
    {
      "cell_type": "markdown",
      "metadata": {
        "id": "view-in-github",
        "colab_type": "text"
      },
      "source": [
        "<a href=\"https://colab.research.google.com/github/tsaiiuo/cyberbullyingDetectRNN/blob/main/%E7%B6%B2%E8%B7%AF%E9%9C%B8%E5%87%8C%E5%88%86%E9%A1%9E.ipynb\" target=\"_parent\"><img src=\"https://colab.research.google.com/assets/colab-badge.svg\" alt=\"Open In Colab\"/></a>"
      ]
    },
    {
      "cell_type": "markdown",
      "source": [
        "##Cyberbullying Classification\n",
        "\n",
        "*   流程：讀取資料 => 資料清理 => TF-IDF加權 => 訓練model\n",
        "\n",
        "\n"
      ],
      "metadata": {
        "id": "_-3R6SYAoL9F"
      }
    },
    {
      "cell_type": "code",
      "source": [
        "# Importing the libraries\n",
        "import numpy as np\n",
        "import pandas as pd\n",
        "import matplotlib.pyplot as plt\n",
        "import seaborn as sns\n",
        "import plotly.express as px\n",
        "from tensorflow.keras.preprocessing import sequence\n",
        "from tensorflow.keras.models import Sequential\n",
        "from tensorflow.keras.layers import Dense, Embedding\n",
        "from tensorflow.keras.layers import LSTM\n",
        "from keras.wrappers.scikit_learn import KerasClassifier\n",
        "from tensorflow.keras.layers import GlobalAveragePooling1D\n",
        "from tensorflow.keras.layers import TextVectorization\n",
        "import tensorflow as tf"
      ],
      "metadata": {
        "id": "G0Wu4T2VWlRm"
      },
      "execution_count": null,
      "outputs": []
    },
    {
      "cell_type": "markdown",
      "source": [
        "# Import data\n",
        "\n",
        "\n",
        "*   47692筆資料\n",
        "\n",
        "\n"
      ],
      "metadata": {
        "id": "gt8Gx1gpLmaV"
      }
    },
    {
      "cell_type": "code",
      "source": [
        "df = pd.read_csv('https://raw.githubusercontent.com/JustinLien0805/cyberBullyingCSV/main/cyberbullying_tweets.csv')  # Importing the dataset"
      ],
      "metadata": {
        "id": "_iwxddarWm4O"
      },
      "execution_count": null,
      "outputs": []
    },
    {
      "cell_type": "code",
      "source": [
        "df.head()"
      ],
      "metadata": {
        "colab": {
          "base_uri": "https://localhost:8080/",
          "height": 201
        },
        "id": "uqf84BuBWphz",
        "outputId": "29a45305-5275-4bc6-a329-020457f7de84"
      },
      "execution_count": null,
      "outputs": [
        {
          "output_type": "execute_result",
          "data": {
            "text/plain": [
              "                                          tweet_text cyberbullying_type\n",
              "0  In other words #katandandre, your food was cra...  not_cyberbullying\n",
              "1  Why is #aussietv so white? #MKR #theblock #ImA...  not_cyberbullying\n",
              "2  @XochitlSuckkks a classy whore? Or more red ve...  not_cyberbullying\n",
              "3  @Jason_Gio meh. :P  thanks for the heads up, b...  not_cyberbullying\n",
              "4  @RudhoeEnglish This is an ISIS account pretend...  not_cyberbullying"
            ],
            "text/html": [
              "\n",
              "  <div id=\"df-d35ceeb4-110f-4401-94c1-f1081c15b8d4\">\n",
              "    <div class=\"colab-df-container\">\n",
              "      <div>\n",
              "<style scoped>\n",
              "    .dataframe tbody tr th:only-of-type {\n",
              "        vertical-align: middle;\n",
              "    }\n",
              "\n",
              "    .dataframe tbody tr th {\n",
              "        vertical-align: top;\n",
              "    }\n",
              "\n",
              "    .dataframe thead th {\n",
              "        text-align: right;\n",
              "    }\n",
              "</style>\n",
              "<table border=\"1\" class=\"dataframe\">\n",
              "  <thead>\n",
              "    <tr style=\"text-align: right;\">\n",
              "      <th></th>\n",
              "      <th>tweet_text</th>\n",
              "      <th>cyberbullying_type</th>\n",
              "    </tr>\n",
              "  </thead>\n",
              "  <tbody>\n",
              "    <tr>\n",
              "      <th>0</th>\n",
              "      <td>In other words #katandandre, your food was cra...</td>\n",
              "      <td>not_cyberbullying</td>\n",
              "    </tr>\n",
              "    <tr>\n",
              "      <th>1</th>\n",
              "      <td>Why is #aussietv so white? #MKR #theblock #ImA...</td>\n",
              "      <td>not_cyberbullying</td>\n",
              "    </tr>\n",
              "    <tr>\n",
              "      <th>2</th>\n",
              "      <td>@XochitlSuckkks a classy whore? Or more red ve...</td>\n",
              "      <td>not_cyberbullying</td>\n",
              "    </tr>\n",
              "    <tr>\n",
              "      <th>3</th>\n",
              "      <td>@Jason_Gio meh. :P  thanks for the heads up, b...</td>\n",
              "      <td>not_cyberbullying</td>\n",
              "    </tr>\n",
              "    <tr>\n",
              "      <th>4</th>\n",
              "      <td>@RudhoeEnglish This is an ISIS account pretend...</td>\n",
              "      <td>not_cyberbullying</td>\n",
              "    </tr>\n",
              "  </tbody>\n",
              "</table>\n",
              "</div>\n",
              "      <button class=\"colab-df-convert\" onclick=\"convertToInteractive('df-d35ceeb4-110f-4401-94c1-f1081c15b8d4')\"\n",
              "              title=\"Convert this dataframe to an interactive table.\"\n",
              "              style=\"display:none;\">\n",
              "        \n",
              "  <svg xmlns=\"http://www.w3.org/2000/svg\" height=\"24px\"viewBox=\"0 0 24 24\"\n",
              "       width=\"24px\">\n",
              "    <path d=\"M0 0h24v24H0V0z\" fill=\"none\"/>\n",
              "    <path d=\"M18.56 5.44l.94 2.06.94-2.06 2.06-.94-2.06-.94-.94-2.06-.94 2.06-2.06.94zm-11 1L8.5 8.5l.94-2.06 2.06-.94-2.06-.94L8.5 2.5l-.94 2.06-2.06.94zm10 10l.94 2.06.94-2.06 2.06-.94-2.06-.94-.94-2.06-.94 2.06-2.06.94z\"/><path d=\"M17.41 7.96l-1.37-1.37c-.4-.4-.92-.59-1.43-.59-.52 0-1.04.2-1.43.59L10.3 9.45l-7.72 7.72c-.78.78-.78 2.05 0 2.83L4 21.41c.39.39.9.59 1.41.59.51 0 1.02-.2 1.41-.59l7.78-7.78 2.81-2.81c.8-.78.8-2.07 0-2.86zM5.41 20L4 18.59l7.72-7.72 1.47 1.35L5.41 20z\"/>\n",
              "  </svg>\n",
              "      </button>\n",
              "      \n",
              "  <style>\n",
              "    .colab-df-container {\n",
              "      display:flex;\n",
              "      flex-wrap:wrap;\n",
              "      gap: 12px;\n",
              "    }\n",
              "\n",
              "    .colab-df-convert {\n",
              "      background-color: #E8F0FE;\n",
              "      border: none;\n",
              "      border-radius: 50%;\n",
              "      cursor: pointer;\n",
              "      display: none;\n",
              "      fill: #1967D2;\n",
              "      height: 32px;\n",
              "      padding: 0 0 0 0;\n",
              "      width: 32px;\n",
              "    }\n",
              "\n",
              "    .colab-df-convert:hover {\n",
              "      background-color: #E2EBFA;\n",
              "      box-shadow: 0px 1px 2px rgba(60, 64, 67, 0.3), 0px 1px 3px 1px rgba(60, 64, 67, 0.15);\n",
              "      fill: #174EA6;\n",
              "    }\n",
              "\n",
              "    [theme=dark] .colab-df-convert {\n",
              "      background-color: #3B4455;\n",
              "      fill: #D2E3FC;\n",
              "    }\n",
              "\n",
              "    [theme=dark] .colab-df-convert:hover {\n",
              "      background-color: #434B5C;\n",
              "      box-shadow: 0px 1px 3px 1px rgba(0, 0, 0, 0.15);\n",
              "      filter: drop-shadow(0px 1px 2px rgba(0, 0, 0, 0.3));\n",
              "      fill: #FFFFFF;\n",
              "    }\n",
              "  </style>\n",
              "\n",
              "      <script>\n",
              "        const buttonEl =\n",
              "          document.querySelector('#df-d35ceeb4-110f-4401-94c1-f1081c15b8d4 button.colab-df-convert');\n",
              "        buttonEl.style.display =\n",
              "          google.colab.kernel.accessAllowed ? 'block' : 'none';\n",
              "\n",
              "        async function convertToInteractive(key) {\n",
              "          const element = document.querySelector('#df-d35ceeb4-110f-4401-94c1-f1081c15b8d4');\n",
              "          const dataTable =\n",
              "            await google.colab.kernel.invokeFunction('convertToInteractive',\n",
              "                                                     [key], {});\n",
              "          if (!dataTable) return;\n",
              "\n",
              "          const docLinkHtml = 'Like what you see? Visit the ' +\n",
              "            '<a target=\"_blank\" href=https://colab.research.google.com/notebooks/data_table.ipynb>data table notebook</a>'\n",
              "            + ' to learn more about interactive tables.';\n",
              "          element.innerHTML = '';\n",
              "          dataTable['output_type'] = 'display_data';\n",
              "          await google.colab.output.renderOutput(dataTable, element);\n",
              "          const docLink = document.createElement('div');\n",
              "          docLink.innerHTML = docLinkHtml;\n",
              "          element.appendChild(docLink);\n",
              "        }\n",
              "      </script>\n",
              "    </div>\n",
              "  </div>\n",
              "  "
            ]
          },
          "metadata": {},
          "execution_count": 3
        }
      ]
    },
    {
      "cell_type": "code",
      "execution_count": null,
      "metadata": {
        "colab": {
          "base_uri": "https://localhost:8080/"
        },
        "id": "j0OTavPxWaRr",
        "outputId": "8bc03388-91be-4606-f7f8-ec13e81fd0f3"
      },
      "outputs": [
        {
          "output_type": "stream",
          "name": "stdout",
          "text": [
            "Looking in indexes: https://pypi.org/simple, https://us-python.pkg.dev/colab-wheels/public/simple/\n",
            "Collecting demoji\n",
            "  Downloading demoji-1.1.0-py3-none-any.whl (42 kB)\n",
            "\u001b[K     |████████████████████████████████| 42 kB 278 kB/s \n",
            "\u001b[?25hInstalling collected packages: demoji\n",
            "Successfully installed demoji-1.1.0\n"
          ]
        }
      ],
      "source": [
        "!pip install demoji"
      ]
    },
    {
      "cell_type": "markdown",
      "source": [
        "# Clean Text"
      ],
      "metadata": {
        "id": "CvrZ-0nWLhUC"
      }
    },
    {
      "cell_type": "code",
      "source": [
        "import re\n",
        "from nltk.corpus import stopwords\n",
        "from nltk.stem.snowball import SnowballStemmer\n",
        "import demoji\n",
        "import string\n",
        "import nltk\n",
        "nltk.download('stopwords')"
      ],
      "metadata": {
        "colab": {
          "base_uri": "https://localhost:8080/"
        },
        "id": "lhw5Ob2DbJZ0",
        "outputId": "fb82bf1d-c396-4b8e-c7ec-892a326b5019"
      },
      "execution_count": null,
      "outputs": [
        {
          "output_type": "stream",
          "name": "stdout",
          "text": [
            "[nltk_data] Downloading package stopwords to /root/nltk_data...\n",
            "[nltk_data]   Unzipping corpora/stopwords.zip.\n"
          ]
        },
        {
          "output_type": "execute_result",
          "data": {
            "text/plain": [
              "True"
            ]
          },
          "metadata": {},
          "execution_count": 5
        }
      ]
    },
    {
      "cell_type": "code",
      "source": [
        "import warnings\n",
        "warnings.filterwarnings(\"ignore\")\n",
        "from warnings import simplefilter\n",
        "from sklearn.exceptions import ConvergenceWarning\n",
        "simplefilter(\"ignore\", category=ConvergenceWarning)"
      ],
      "metadata": {
        "id": "mb-8YMqVbNpD"
      },
      "execution_count": null,
      "outputs": []
    },
    {
      "cell_type": "code",
      "source": [
        "STOPWORDS = set(stopwords.words('english'))\n",
        "STOPWORDS.update(['rt', 'mkr', 'didn', 'bc', 'n', 'm', \n",
        "                  'im', 'll', 'y', 've', 'u', 'ur', 'don', \n",
        "                  'p', 't', 's', 'aren', 'kp', 'o', 'kat', \n",
        "                  'de', 're', 'amp', 'will', 'wa', 'e', 'like'])\n",
        "stemmer = SnowballStemmer('english')\n",
        "def clean_text(text): # Clean Text\n",
        "    \n",
        "    # Removing Hashtag, Mention, URLs\n",
        "    pattern = re.compile(r\"(#[A-Za-z0-9]+|@[A-Za-z0-9]+|https?://\\S+|www\\.\\S+|\\S+\\.[a-z]+|RT @)\")\n",
        "    text = pattern.sub('', text)\n",
        "    text = \" \".join(text.split())\n",
        "    \n",
        "    # lowercase\n",
        "    text = text.lower()\n",
        "    \n",
        "    # Stemming\n",
        "    text = \" \".join([stemmer.stem(word) for word in text.split()])\n",
        "    \n",
        "    # Removing Punctuations\n",
        "    remove_punc = re.compile(r\"[%s]\" % re.escape(string.punctuation))\n",
        "    text = remove_punc.sub('', text)\n",
        "    \n",
        "    # Removing stopwords\n",
        "    text = \" \".join([word for word in str(text).split() if word not in STOPWORDS])\n",
        "    \n",
        "    # Taking care of emojis\n",
        "    emoji = demoji.findall(text)\n",
        "    for emot in emoji:\n",
        "        text = re.sub(r\"(%s)\" % (emot), \"_\".join(emoji[emot].split()), text)\n",
        "\n",
        "    return text"
      ],
      "metadata": {
        "id": "Ay6bfqF2bSbr"
      },
      "execution_count": null,
      "outputs": []
    },
    {
      "cell_type": "code",
      "source": [
        "df['cleaned_text'] = df['tweet_text'].apply(lambda text: clean_text(text))  # Applying the cleaning to the text data"
      ],
      "metadata": {
        "id": "hUyz5_qqbblb"
      },
      "execution_count": null,
      "outputs": []
    },
    {
      "cell_type": "code",
      "source": [
        "df.head()"
      ],
      "metadata": {
        "colab": {
          "base_uri": "https://localhost:8080/",
          "height": 201
        },
        "id": "Z1nDXxCrbdvz",
        "outputId": "154da547-20f5-4b40-c8f6-e126eb8b2e52"
      },
      "execution_count": null,
      "outputs": [
        {
          "output_type": "execute_result",
          "data": {
            "text/plain": [
              "                                          tweet_text cyberbullying_type  \\\n",
              "0  In other words #katandandre, your food was cra...  not_cyberbullying   \n",
              "1  Why is #aussietv so white? #MKR #theblock #ImA...  not_cyberbullying   \n",
              "2  @XochitlSuckkks a classy whore? Or more red ve...  not_cyberbullying   \n",
              "3  @Jason_Gio meh. :P  thanks for the heads up, b...  not_cyberbullying   \n",
              "4  @RudhoeEnglish This is an ISIS account pretend...  not_cyberbullying   \n",
              "\n",
              "                                        cleaned_text  \n",
              "0                             word food crapilicious  \n",
              "1                                          whi white  \n",
              "2                   classi whore red velvet cupcakes  \n",
              "3  gio meh thank head concern anoth angri dude tw...  \n",
              "4     isi account pretend kurdish account islam lies  "
            ],
            "text/html": [
              "\n",
              "  <div id=\"df-9645145e-3630-4541-aa73-5e794b601c90\">\n",
              "    <div class=\"colab-df-container\">\n",
              "      <div>\n",
              "<style scoped>\n",
              "    .dataframe tbody tr th:only-of-type {\n",
              "        vertical-align: middle;\n",
              "    }\n",
              "\n",
              "    .dataframe tbody tr th {\n",
              "        vertical-align: top;\n",
              "    }\n",
              "\n",
              "    .dataframe thead th {\n",
              "        text-align: right;\n",
              "    }\n",
              "</style>\n",
              "<table border=\"1\" class=\"dataframe\">\n",
              "  <thead>\n",
              "    <tr style=\"text-align: right;\">\n",
              "      <th></th>\n",
              "      <th>tweet_text</th>\n",
              "      <th>cyberbullying_type</th>\n",
              "      <th>cleaned_text</th>\n",
              "    </tr>\n",
              "  </thead>\n",
              "  <tbody>\n",
              "    <tr>\n",
              "      <th>0</th>\n",
              "      <td>In other words #katandandre, your food was cra...</td>\n",
              "      <td>not_cyberbullying</td>\n",
              "      <td>word food crapilicious</td>\n",
              "    </tr>\n",
              "    <tr>\n",
              "      <th>1</th>\n",
              "      <td>Why is #aussietv so white? #MKR #theblock #ImA...</td>\n",
              "      <td>not_cyberbullying</td>\n",
              "      <td>whi white</td>\n",
              "    </tr>\n",
              "    <tr>\n",
              "      <th>2</th>\n",
              "      <td>@XochitlSuckkks a classy whore? Or more red ve...</td>\n",
              "      <td>not_cyberbullying</td>\n",
              "      <td>classi whore red velvet cupcakes</td>\n",
              "    </tr>\n",
              "    <tr>\n",
              "      <th>3</th>\n",
              "      <td>@Jason_Gio meh. :P  thanks for the heads up, b...</td>\n",
              "      <td>not_cyberbullying</td>\n",
              "      <td>gio meh thank head concern anoth angri dude tw...</td>\n",
              "    </tr>\n",
              "    <tr>\n",
              "      <th>4</th>\n",
              "      <td>@RudhoeEnglish This is an ISIS account pretend...</td>\n",
              "      <td>not_cyberbullying</td>\n",
              "      <td>isi account pretend kurdish account islam lies</td>\n",
              "    </tr>\n",
              "  </tbody>\n",
              "</table>\n",
              "</div>\n",
              "      <button class=\"colab-df-convert\" onclick=\"convertToInteractive('df-9645145e-3630-4541-aa73-5e794b601c90')\"\n",
              "              title=\"Convert this dataframe to an interactive table.\"\n",
              "              style=\"display:none;\">\n",
              "        \n",
              "  <svg xmlns=\"http://www.w3.org/2000/svg\" height=\"24px\"viewBox=\"0 0 24 24\"\n",
              "       width=\"24px\">\n",
              "    <path d=\"M0 0h24v24H0V0z\" fill=\"none\"/>\n",
              "    <path d=\"M18.56 5.44l.94 2.06.94-2.06 2.06-.94-2.06-.94-.94-2.06-.94 2.06-2.06.94zm-11 1L8.5 8.5l.94-2.06 2.06-.94-2.06-.94L8.5 2.5l-.94 2.06-2.06.94zm10 10l.94 2.06.94-2.06 2.06-.94-2.06-.94-.94-2.06-.94 2.06-2.06.94z\"/><path d=\"M17.41 7.96l-1.37-1.37c-.4-.4-.92-.59-1.43-.59-.52 0-1.04.2-1.43.59L10.3 9.45l-7.72 7.72c-.78.78-.78 2.05 0 2.83L4 21.41c.39.39.9.59 1.41.59.51 0 1.02-.2 1.41-.59l7.78-7.78 2.81-2.81c.8-.78.8-2.07 0-2.86zM5.41 20L4 18.59l7.72-7.72 1.47 1.35L5.41 20z\"/>\n",
              "  </svg>\n",
              "      </button>\n",
              "      \n",
              "  <style>\n",
              "    .colab-df-container {\n",
              "      display:flex;\n",
              "      flex-wrap:wrap;\n",
              "      gap: 12px;\n",
              "    }\n",
              "\n",
              "    .colab-df-convert {\n",
              "      background-color: #E8F0FE;\n",
              "      border: none;\n",
              "      border-radius: 50%;\n",
              "      cursor: pointer;\n",
              "      display: none;\n",
              "      fill: #1967D2;\n",
              "      height: 32px;\n",
              "      padding: 0 0 0 0;\n",
              "      width: 32px;\n",
              "    }\n",
              "\n",
              "    .colab-df-convert:hover {\n",
              "      background-color: #E2EBFA;\n",
              "      box-shadow: 0px 1px 2px rgba(60, 64, 67, 0.3), 0px 1px 3px 1px rgba(60, 64, 67, 0.15);\n",
              "      fill: #174EA6;\n",
              "    }\n",
              "\n",
              "    [theme=dark] .colab-df-convert {\n",
              "      background-color: #3B4455;\n",
              "      fill: #D2E3FC;\n",
              "    }\n",
              "\n",
              "    [theme=dark] .colab-df-convert:hover {\n",
              "      background-color: #434B5C;\n",
              "      box-shadow: 0px 1px 3px 1px rgba(0, 0, 0, 0.15);\n",
              "      filter: drop-shadow(0px 1px 2px rgba(0, 0, 0, 0.3));\n",
              "      fill: #FFFFFF;\n",
              "    }\n",
              "  </style>\n",
              "\n",
              "      <script>\n",
              "        const buttonEl =\n",
              "          document.querySelector('#df-9645145e-3630-4541-aa73-5e794b601c90 button.colab-df-convert');\n",
              "        buttonEl.style.display =\n",
              "          google.colab.kernel.accessAllowed ? 'block' : 'none';\n",
              "\n",
              "        async function convertToInteractive(key) {\n",
              "          const element = document.querySelector('#df-9645145e-3630-4541-aa73-5e794b601c90');\n",
              "          const dataTable =\n",
              "            await google.colab.kernel.invokeFunction('convertToInteractive',\n",
              "                                                     [key], {});\n",
              "          if (!dataTable) return;\n",
              "\n",
              "          const docLinkHtml = 'Like what you see? Visit the ' +\n",
              "            '<a target=\"_blank\" href=https://colab.research.google.com/notebooks/data_table.ipynb>data table notebook</a>'\n",
              "            + ' to learn more about interactive tables.';\n",
              "          element.innerHTML = '';\n",
              "          dataTable['output_type'] = 'display_data';\n",
              "          await google.colab.output.renderOutput(dataTable, element);\n",
              "          const docLink = document.createElement('div');\n",
              "          docLink.innerHTML = docLinkHtml;\n",
              "          element.appendChild(docLink);\n",
              "        }\n",
              "      </script>\n",
              "    </div>\n",
              "  </div>\n",
              "  "
            ]
          },
          "metadata": {},
          "execution_count": 9
        }
      ]
    },
    {
      "cell_type": "code",
      "source": [
        "df.isnull().sum()  # Checking for missing values"
      ],
      "metadata": {
        "colab": {
          "base_uri": "https://localhost:8080/"
        },
        "id": "V_FljPF7bfyz",
        "outputId": "583ff3a6-9764-403f-8391-99aa805803db"
      },
      "execution_count": null,
      "outputs": [
        {
          "output_type": "execute_result",
          "data": {
            "text/plain": [
              "tweet_text            0\n",
              "cyberbullying_type    0\n",
              "cleaned_text          0\n",
              "dtype: int64"
            ]
          },
          "metadata": {},
          "execution_count": 10
        }
      ]
    },
    {
      "cell_type": "code",
      "source": [
        "df['cleaned_text'].duplicated().sum() # Checking for duplicate values"
      ],
      "metadata": {
        "colab": {
          "base_uri": "https://localhost:8080/"
        },
        "id": "kmwsVYIsbhgy",
        "outputId": "08149820-27a8-4660-e654-c0f4ea90fff7"
      },
      "execution_count": null,
      "outputs": [
        {
          "output_type": "execute_result",
          "data": {
            "text/plain": [
              "2887"
            ]
          },
          "metadata": {},
          "execution_count": 11
        }
      ]
    },
    {
      "cell_type": "code",
      "source": [
        "df.drop_duplicates(\"cleaned_text\", inplace = True) # clean duplicate value"
      ],
      "metadata": {
        "id": "qXveuDhqbi5S"
      },
      "execution_count": null,
      "outputs": []
    },
    {
      "cell_type": "code",
      "source": [
        "df['cleaned_text'].str.isspace().sum() # Checking for tweets with only whitespaces"
      ],
      "metadata": {
        "colab": {
          "base_uri": "https://localhost:8080/"
        },
        "id": "yP-8KY_8bkH6",
        "outputId": "f99a5f4d-2a10-4bda-b85c-cc67130d7a4d"
      },
      "execution_count": null,
      "outputs": [
        {
          "output_type": "execute_result",
          "data": {
            "text/plain": [
              "0"
            ]
          },
          "metadata": {},
          "execution_count": 13
        }
      ]
    },
    {
      "cell_type": "code",
      "source": [
        "df = df[df[\"cyberbullying_type\"]!=\"other_cyberbullying\"]"
      ],
      "metadata": {
        "id": "_j2rPlfWboBy"
      },
      "execution_count": null,
      "outputs": []
    },
    {
      "cell_type": "code",
      "source": [
        "df['cyberbullying_type'].value_counts()"
      ],
      "metadata": {
        "colab": {
          "base_uri": "https://localhost:8080/"
        },
        "id": "VVhoeo0BbqvK",
        "outputId": "7348fa8c-137e-400f-f36e-1e29e1475244"
      },
      "execution_count": null,
      "outputs": [
        {
          "output_type": "execute_result",
          "data": {
            "text/plain": [
              "religion             7946\n",
              "age                  7887\n",
              "ethnicity            7797\n",
              "not_cyberbullying    7670\n",
              "gender               7637\n",
              "Name: cyberbullying_type, dtype: int64"
            ]
          },
          "metadata": {},
          "execution_count": 15
        }
      ]
    },
    {
      "cell_type": "code",
      "source": [
        "df['cleaned_text']"
      ],
      "metadata": {
        "colab": {
          "base_uri": "https://localhost:8080/"
        },
        "id": "_U_hxxw0_ki2",
        "outputId": "931ff282-d616-4e6b-ed4e-7b9cf17e8ee2"
      },
      "execution_count": null,
      "outputs": [
        {
          "output_type": "execute_result",
          "data": {
            "text/plain": [
              "0                                   word food crapilicious\n",
              "1                                                whi white\n",
              "2                         classi whore red velvet cupcakes\n",
              "3        gio meh thank head concern anoth angri dude tw...\n",
              "4           isi account pretend kurdish account islam lies\n",
              "                               ...                        \n",
              "47687    black ppl arent expect anything depend anythin...\n",
              "47688    turner withhold disappointment turner call cou...\n",
              "47689    swear god dumb nigger bitch got bleach hair re...\n",
              "47690    yea fuck therealexel nigger fuck unfollow fuck...\n",
              "47691    bro gotta chill chillshrammy dog fuck dumb nig...\n",
              "Name: cleaned_text, Length: 38937, dtype: object"
            ]
          },
          "metadata": {},
          "execution_count": 16
        }
      ]
    },
    {
      "cell_type": "markdown",
      "source": [
        "# 用TF-IDF做加權(TF*IDF)\n",
        "\n",
        "\n",
        "*   tf 詞頻（term frequency，TF(t,d)): number of times term(t) appear in the doc(d)\n",
        "*   idf 逆向文件頻率（inverse document frequency，IDF(d): log(number of doc/number of doc term(t) appear)\n",
        "\n",
        "\n",
        "\n",
        "\n",
        "\n",
        "\n",
        "\n"
      ],
      "metadata": {
        "id": "BY_58hwTMpZR"
      }
    },
    {
      "cell_type": "code",
      "source": [
        "from sklearn.model_selection import train_test_split\n",
        "from sklearn.feature_extraction.text import TfidfVectorizer"
      ],
      "metadata": {
        "id": "ZFmqi8CFbz2y"
      },
      "execution_count": null,
      "outputs": []
    },
    {
      "cell_type": "code",
      "source": [
        "X = df['cleaned_text']  # Feature (raw data)\n",
        "y = df['cyberbullying_type']  # Target Label"
      ],
      "metadata": {
        "id": "9G8KisKHb3zb"
      },
      "execution_count": null,
      "outputs": []
    },
    {
      "cell_type": "code",
      "source": [
        "X_train, X_test, y_train, y_test = train_test_split(X, y, test_size = 0.2, random_state = 42) # 將資料分為test, train"
      ],
      "metadata": {
        "id": "6rTOyWrab6eK"
      },
      "execution_count": null,
      "outputs": []
    },
    {
      "cell_type": "code",
      "source": [
        "tfidf = TfidfVectorizer(max_features = 5000)  # TF - IDF Vectorizer 抓出 top 5000 特徵"
      ],
      "metadata": {
        "id": "qB-g-AN3b7X6"
      },
      "execution_count": null,
      "outputs": []
    },
    {
      "cell_type": "code",
      "source": [
        "# Feature Extraction\n",
        "X_train_tfidf = tfidf.fit_transform(X_train)  # 轉為 sparse matrix\n",
        "X_test_tfidf = tfidf.transform(X_test)"
      ],
      "metadata": {
        "id": "kST9E3p2b8_y"
      },
      "execution_count": null,
      "outputs": []
    },
    {
      "cell_type": "code",
      "source": [
        "from sklearn.preprocessing import StandardScaler \n",
        "scaler = StandardScaler() \n",
        "tfidf_array_train = X_train_tfidf.toarray()   # sparse matrix to a numpy array \n",
        "tfidf_array_test = X_test_tfidf.toarray()     "
      ],
      "metadata": {
        "id": "6oiFhBDscCXK"
      },
      "execution_count": null,
      "outputs": []
    },
    {
      "cell_type": "code",
      "source": [
        "print(f\"Feature name: {tfidf.get_feature_names()}\") \n",
        "print(f\"TF-IDF result: {tfidf.idf_}\")\n",
        "print(\"\\n\")\n",
        "pd.DataFrame(tfidf_array_train)"
      ],
      "metadata": {
        "colab": {
          "base_uri": "https://localhost:8080/",
          "height": 497
        },
        "id": "7SPRm6EhuY5r",
        "outputId": "ddc11963-c945-4503-be18-289300f873fb"
      },
      "execution_count": null,
      "outputs": [
        {
          "output_type": "stream",
          "name": "stdout",
          "text": [
            "Feature name: ['10', '100', '1000', '10000', '1010', '10th', '10x', '11', '110', '12', '13', '14', '140', '1400', '15', '150', '16', '17', '18', '19', '1947', '1990', '1994', '1d', '1st', '20', '200', '2000', '2000s', '2001', '2007', '2010', '2011', '2012', '2013', '2014', '2015', '2016', '2017', '2018', '2019', '2020', '20th', '21', '21st', '22', '23', '24', '247', '25', '26', '2611', '28', '29', '2gether', '2nd', '30', '300', '32', '33', '3333', '34', '35', '3rd', '40', '400', '411pain', '45', '4m', '4th', '50', '500', '55', '56', '5sos', '5th', '60', '600', '6th', '70', '72', '7th', '80', '800', '80s', '8th', '90', '90s', '911', '95', '98', '99', '9th', 'aa', 'ab', 'abandon', 'abdul', 'abe', 'abil', 'abl', 'ableist', 'abolish', 'abort', 'abortion', 'abov', 'abroad', 'absolut', 'absolutely', 'absurd', 'abt', 'abu', 'abus', 'abuse', 'acc', 'accept', 'acceptable', 'access', 'accident', 'accomplish', 'accord', 'account', 'accountable', 'acct', 'accur', 'accus', 'achiev', 'acho', 'acknowledg', 'across', 'act', 'action', 'actions', 'activ', 'activist', 'activities', 'actor', 'actress', 'actual', 'actually', 'ad', 'adam', 'add', 'addict', 'address', 'admin', 'administr', 'administration', 'admir', 'admit', 'adopt', 'ador', 'adult', 'adults', 'advanc', 'advantag', 'advic', 'advice', 'advoc', 'af', 'affair', 'affect', 'afford', 'afghanistan', 'afraid', 'africa', 'african', 'africanamerican', 'age', 'agenda', 'agent', 'aggress', 'ago', 'agora', 'agre', 'agree', 'agreed', 'agreement', 'ah', 'ahaha', 'ahead', 'ahh', 'ahmadi', 'aid', 'aids', 'aim', 'ainda', 'aint', 'air', 'aisha', 'aka', 'akbar', 'al', 'alabama', 'albanian', 'album', 'alcohol', 'alert', 'alex', 'alexand', 'ali', 'alien', 'align', 'aliv', 'alive', 'all', 'allah', 'alleg', 'alli', 'allow', 'almost', 'alon', 'alone', 'along', 'alot', 'alqaeda', 'alreadi', 'already', 'alright', 'also', 'alt', 'altaqiya', 'altern', 'although', 'alway', 'always', 'amaz', 'amazing', 'ambassador', 'amd', 'amend', 'america', 'american', 'americans', 'ami', 'among', 'amongst', 'amount', 'ampamp', 'amus', 'anal', 'analog', 'analyst', 'anarchist', 'ancestor', 'ancient', 'and', 'andor', 'andr', 'andre', 'andrew', 'angel', 'anger', 'angl', 'angri', 'angry', 'ani', 'anim', 'animals', 'anime', 'ann', 'anni', 'anniversari', 'announc', 'annoy', 'annoying', 'anonym', 'anoth', 'another', 'answer', 'ant', 'anthem', 'anthoni', 'anti', 'antiblack', 'antibulli', 'antichrist', 'antichristian', 'antifa', 'antifeminist', 'antigay', 'antimuslim', 'antisemit', 'antisemitic', 'antisemitism', 'anxieti', 'anxious', 'any1', 'anybodi', 'anybody', 'anymor', 'anymore', 'anyon', 'anyone', 'anyth', 'anything', 'anytim', 'anyway', 'anyways', 'anywher', 'anywhere', 'ao', 'aoc', 'apart', 'apartheid', 'ape', 'apn', 'apolog', 'apologis', 'apologist', 'apology', 'apost', 'app', 'appal', 'appar', 'apparently', 'appeal', 'appear', 'appearance', 'appeas', 'appl', 'appli', 'applic', 'apply', 'appoint', 'appreci', 'approach', 'appropri', 'approv', 'apt', 'aqui', 'ar', 'arab', 'arabia', 'arabian', 'arabic', 'arabs', 'arc', 'area', 'areas', 'arent', 'argu', 'argument', 'arm', 'armi', 'army', 'around', 'arrest', 'arriv', 'arrog', 'ars', 'arsehol', 'arsenal', 'art', 'articl', 'article', 'artist', 'arya', 'asap', 'asf', 'ash', 'asham', 'ashamed', 'asia', 'asian', 'asid', 'ask', 'asked', 'asleep', 'aspect', 'asredasmyhair', 'ass', 'assad', 'assassin', 'assault', 'assembl', 'assert', 'asshol', 'asshole', 'assholes', 'assign', 'assim', 'assist', 'associ', 'assum', 'assumpt', 'assur', 'asylum', 'ate', 'atheist', 'atheists', 'athlet', 'atlanta', 'atleast', 'atroc', 'attack', 'attacked', 'attacks', 'attempt', 'attend', 'attent', 'attention', 'attitud', 'attitude', 'attorney', 'attract', 'attribut', 'au', 'audac', 'audienc', 'audio', 'aunt', 'aur', 'australia', 'australian', 'author', 'autism', 'autist', 'automat', 'avail', 'averag', 'avi', 'avoid', 'aw', 'awak', 'awar', 'award', 'awards', 'awareness', 'away', 'awesom', 'awesome', 'awful', 'awkward', 'aww', 'awww', 'awwww', 'aye', 'b4', 'babe', 'babi', 'babies', 'baby', 'back', 'background', 'backlash', 'backpack', 'backward', 'backwards', 'bacon', 'bad', 'bag', 'baghdadi', 'bait', 'bake', 'baldwin', 'ball', 'ban', 'banana', 'band', 'bandwagon', 'bang', 'bangladesh', 'bank', 'bar', 'baraa1', 'barack', 'barbar', 'barbi', 'bare', 'bark', 'barr', 'bas', 'base', 'basebal', 'bash', 'basi', 'basic', 'basis', 'basketbal', 'basketball', 'bastard', 'bat', 'bathroom', 'battl', 'bay', 'bb', 'bbc', 'bbq', 'bcoz', 'bcs', 'bcuz', 'bcz', 'bday', 'be', 'beach', 'bean', 'bear', 'beard', 'beat', 'beatdown', 'beaten', 'beauti', 'beautiful', 'becam', 'becaus', 'becom', 'becoz', 'bed', 'beef', 'befor', 'befriend', 'beg', 'began', 'begin', 'behalf', 'behav', 'behavior', 'behaviour', 'behead', 'behind', 'bein', 'beings', 'belief', 'beliefs', 'believ', 'believe', 'believers', 'belittl', 'beliv', 'belong', 'belov', 'belt', 'ben', 'bend', 'benefit', 'bengal', 'berni', 'besid', 'besides', 'best', 'bet', 'betray', 'better', 'beyond', 'bf', 'bff', 'bfs', 'bhai', 'bhakt', 'bharat', 'bhi', 'bi', 'bias', 'biased', 'bibi', 'bibl', 'bible', 'biblic', 'biden', 'bieber', 'big', 'bigger', 'biggest', 'bigot', 'bigoted', 'bigotri', 'bigotry', 'bigots', 'bihar', 'bike', 'bill', 'billi', 'billion', 'billionair', 'bimbo', 'bin', 'binay', 'bio', 'biolog', 'bird', 'birth', 'birthday', 'bisexu', 'bish', 'bit', 'bitch', 'bitches', 'bitchi', 'bite', 'bitter', 'bjp', 'bla', 'black', 'blacks', 'blah', 'blame', 'blasphemi', 'blast', 'blatant', 'bleach', 'bleed', 'bless', 'blew', 'blind', 'blk', 'blm', 'block', 'blocked', 'blog', 'blond', 'blondes', 'blood', 'bloodi', 'blow', 'blown', 'blowup', 'blue', 'blumenth', 'board', 'bodi', 'body', 'boi', 'boil', 'boko', 'bold', 'bomb', 'bomber', 'bond', 'bone', 'boo', 'boob', 'book', 'books', 'boom', 'boost', 'boot', 'border', 'bore', 'bori', 'boring', 'born', 'borrow', 'boss', 'bot', 'bother', 'bottl', 'bottom', 'bought', 'bound', 'bout', 'bow', 'bowl', 'box', 'boy', 'boycott', 'boyfriend', 'boys', 'bra', 'brag', 'brahmin', 'braid', 'brain', 'brainless', 'brainwash', 'brand', 'brat', 'brave', 'brazil', 'bread', 'break', 'breakfast', 'breaking', 'breath', 'breed', 'bribe', 'brick', 'bride', 'bridg', 'bright', 'brilliant', 'bring', 'brit', 'britain', 'british', 'bro', 'broad', 'broadcast', 'broke', 'broken', 'brook', 'brother', 'brotherhood', 'brothers', 'brought', 'brown', 'bruce', 'bruh', 'brush', 'brutal', 'brutality', 'bs', 'bt', 'bts', 'btw', 'bubbl', 'buck', 'bud', 'buddhist', 'buddhists', 'buddi', 'buddy', 'budget', 'bug', 'build', 'building', 'built', 'bull', 'bullet', 'bulli', 'bullied', 'bullies', 'bulling', 'bullshit', 'bully', 'bullying', 'bum', 'bump', 'bunch', 'burger', 'buri', 'burn', 'burnt', 'bus', 'bush', 'busi', 'business', 'bust', 'but', 'butcher', 'butt', 'butter', 'button', 'buy', 'bye', 'ca', 'caa', 'cage', 'cake', 'california', 'caliph', 'call', 'called', 'callin', 'calling', 'calm', 'came', 'camel', 'camera', 'cameron', 'camilla', 'camp', 'campaign', 'camps', 'campus', 'canada', 'canadian', 'cancel', 'cancer', 'candid', 'cannot', 'canon', 'cant', 'capabl', 'cape', 'capit', 'captain', 'caption', 'captur', 'car', 'cara', 'caravan', 'card', 'care', 'career', 'cares', 'carri', 'cartoon', 'casa', 'case', 'cash', 'cast', 'casual', 'cat', 'catch', 'categori', 'cater', 'cathol', 'catholic', 'caucasian', 'caught', 'caus', 'causa', 'cause', 'cave', 'cc', 'ccp', 'cdc', 'celebr', 'celin', 'cell', 'cent', 'center', 'centr', 'central', 'centrist', 'centuri', 'century', 'ceo', 'certain', 'chad', 'chain', 'chair', 'challeng', 'chama', 'chamada', 'champion', 'chanc', 'chang', 'change', 'changed', 'channel', 'chant', 'chappell', 'chapter', 'char', 'charact', 'character', 'characters', 'charg', 'charge', 'chariti', 'charli', 'charm', 'charter', 'chase', 'chastis', 'chat', 'cheap', 'cheat', 'cheating', 'check', 'checked', 'cheek', 'cheer', 'cheerlead', 'chees', 'chef', 'chelsea', 'chemic', 'cherri', 'chest', 'chicago', 'chick', 'chicken', 'chickfila', 'chief', 'child', 'childhood', 'childish', 'children', 'chill', 'china', 'chines', 'chinese', 'chip', 'choic', 'choice', 'choke', 'choos', 'chose', 'chosen', 'chris', 'christ', 'christian', 'christianity', 'christians', 'christma', 'chubbi', 'church', 'churches', 'cia', 'circl', 'circumst', 'cis', 'cishet', 'cite', 'citi', 'citizen', 'citizens', 'citizenship', 'city', 'civil', 'civilian', 'civilians', 'cj', 'ck', 'claim', 'claims', 'clan', 'clap', 'clarifi', 'class', 'classes', 'classi', 'classic', 'classifi', 'classmat', 'classroom', 'classy', 'clean', 'cleans', 'clear', 'cleric', 'clever', 'clich', 'click', 'client', 'clifford', 'climat', 'clinton', 'clip', 'cliqu', 'clock', 'close', 'closed', 'closer', 'closest', 'closet', 'cloth', 'clothes', 'cloud', 'clout', 'clown', 'club', 'clue', 'clueless', 'cm', 'cmon', 'cnn', 'co', 'coach', 'coat', 'cock', 'cocktail', 'cod', 'code', 'coffe', 'coin', 'cold', 'colin', 'colleagu', 'collect', 'colleg', 'college', 'collin', 'colonelkickhead', 'coloni', 'color', 'colored', 'colors', 'colour', 'coltonzappe', 'com', 'com1', 'combin', 'come', 'comeback', 'comedi', 'comedian', 'comedians', 'comedy', 'comfort', 'comic', 'comigo', 'comin', 'coming', 'command', 'comment', 'comments', 'commi', 'commiss', 'commit', 'common', 'communal', 'communic', 'communism', 'communist', 'communists', 'communiti', 'communities', 'community', 'como', 'comp', 'compani', 'company', 'compar', 'comparison', 'compass', 'compassion', 'compet', 'competit', 'competition', 'complain', 'complaining', 'complaint', 'complet', 'complex', 'compliment', 'comprehens', 'comput', 'con', 'concentr', 'concept', 'concern', 'concert', 'conclus', 'condemn', 'condit', 'condon', 'conduct', 'confer', 'confess', 'confid', 'confirm', 'conflict', 'confront', 'confus', 'confused', 'congrat', 'congratul', 'congress', 'congressman', 'congressmen', 'congresswoman', 'connect', 'connot', 'conquer', 'conscious', 'consent', 'consequ', 'consequences', 'conserv', 'conservative', 'conservatives', 'consid', 'consist', 'conspir', 'conspiraci', 'constant', 'constantly', 'constitu', 'constitut', 'constitution', 'construct', 'consum', 'cont', 'contact', 'contain', 'content', 'contest', 'context', 'continu', 'continue', 'contra', 'contract', 'contradict', 'contribut', 'control', 'controversi', 'conveni', 'convent', 'convers', 'conversation', 'convert', 'converted', 'convict', 'convinc', 'convo', 'cook', 'cooked', 'cooking', 'cool', 'coon', 'cooper', 'cop', 'cope', 'copi', 'cops', 'core', 'corner', 'corona', 'coronavirus', 'corpor', 'correct', 'corrupt', 'cortez', 'cos', 'cost', 'cotton', 'cough', 'could', 'couldnt', 'couldv', 'council', 'count', 'counter', 'counti', 'countless', 'countri', 'countries', 'country', 'coupl', 'courag', 'cours', 'course', 'court', 'cousin', 'cover', 'covid', 'covid19', 'cow', 'coward', 'cowork', 'coz', 'crack', 'cracker', 'crap', 'crash', 'crave', 'crawl', 'crazi', 'crazy', 'cream', 'creat', 'creation', 'creativ', 'creator', 'creatur', 'credibility', 'credibl', 'credit', 'creed', 'creep', 'creepi', 'crew', 'cri', 'cricket', 'crime', 'crimes', 'crimin', 'criminal', 'criminals', 'cring', 'crisi', 'crisis', 'critic', 'criticis', 'critiqu', 'cross', 'crow', 'crowd', 'crown', 'cruel', 'crusad', 'crusades', 'crush', 'cry', 'crying', 'ct', 'culprit', 'cult', 'cultur', 'culture', 'cum', 'cunt', 'cunts', 'curb', 'curdistani', 'cure', 'curious', 'current', 'curs', 'cus', 'custom', 'cut', 'cute', 'cuz', 'cyber', 'cycl', 'cyrus', 'da', 'dad', 'daddi', 'daesh', 'daili', 'daily', 'dalit', 'dam', 'damag', 'damage', 'damn', 'dan', 'danc', 'dance', 'danger', 'dangerous', 'daniel', 'dare', 'dark', 'darker', 'darkskin', 'darulharb', 'dat', 'data', 'date', 'daughter', 'dave', 'david', 'dawg', 'day', 'days', 'dc', 'dead', 'deadass', 'deaf', 'deal', 'dealt', 'dear', 'death', 'deaths', 'debat', 'debate', 'debra', 'decad', 'decades', 'decent', 'decid', 'decis', 'declar', 'deconstruct', 'deconstructed', 'dedic', 'deed', 'deep', 'deeper', 'deepli', 'def', 'defam', 'defeat', 'defenc', 'defend', 'defens', 'defense', 'defin', 'definit', 'deflect', 'defund', 'degrad', 'degre', 'del', 'delet', 'delhi', 'deliber', 'delus', 'delusion', 'dem', 'demand', 'demean', 'democraci', 'democracy', 'democrat', 'democrats', 'demolish', 'demon', 'demonstr', 'deni', 'denial', 'denounc', 'depart', 'depend', 'depress', 'depression', 'depriv', 'depth', 'der', 'deriv', 'derogatori', 'describ', 'descript', 'deserv', 'deserve', 'design', 'desir', 'desper', 'despic', 'despis', 'despit', 'dessert', 'destroy', 'destruct', 'detail', 'detent', 'determin', 'dev', 'develop', 'devil', 'devot', 'devout', 'dey', 'di', 'dia', 'dick', 'dickhead', 'dictat', 'dictatorship', 'dictionari', 'didnt', 'die', 'died', 'diet', 'diff', 'differ', 'difference', 'different', 'difficult', 'difficulti', 'dig', 'digniti', 'din', 'dinner', 'direct', 'direction', 'director', 'dirt', 'dirti', 'dirty', 'dirtytruth', 'dis', 'disability', 'disabl', 'disabled', 'disagre', 'disagree', 'disappoint', 'discov', 'discrimin', 'discrimination', 'discuss', 'diseas', 'disgrac', 'disguis', 'disgust', 'disgusting', 'dish', 'dislik', 'dismiss', 'disney', 'display', 'disrespect', 'disrespectful', 'disrupt', 'diss', 'distanc', 'district', 'disturb', 'divers', 'divid', 'divin', 'divis', 'divorc', 'dm', 'dms', 'dna', 'dnt', 'do', 'doc', 'doctor', 'doctors', 'documentari', 'dodg', 'dodger', 'doe', 'doesnt', 'dog', 'dogs', 'doin', 'doll', 'dollar', 'domest', 'domin', 'donald', 'donat', 'done', 'donkey', 'donna', 'dont', 'door', 'dope', 'dos', 'dot', 'doubl', 'doubt', 'douch', 'download', 'dozen', 'dr', 'draft', 'drag', 'dragon', 'drama', 'drasko', 'draw', 'drawn', 'dread', 'dream', 'dress', 'drew', 'dri', 'drink', 'drive', 'driven', 'driver', 'drivers', 'drone', 'drop', 'drove', 'drug', 'drugs', 'drunk', 'dt', 'dubey', 'duck', 'dude', 'due', 'duh', 'dum', 'dumb', 'dumbass', 'dumbest', 'dummi', 'dump', 'dure', 'dutert', 'duti', 'dy', 'dyke', 'dynam', 'eachoth', 'ear', 'earli', 'earlier', 'early', 'earn', 'earth', 'easi', 'easier', 'easili', 'east', 'eastern', 'easy', 'eat', 'eating', 'ebook', 'econom', 'economi', 'ect', 'ed', 'edgi', 'edit', 'editor', 'educ', 'educated', 'education', 'effect', 'effort', 'eg', 'egg', 'ego', 'egypt', 'egyptian', 'eh', 'eid', 'either', 'el', 'ela', 'elder', 'ele', 'elect', 'element', 'elementari', 'elementary', 'eleph', 'elimin', 'elit', 'ellen', 'els', 'else', 'em', 'email', 'embarrass', 'embrac', 'emili', 'emilie', 'emma', 'emo', 'emoji', 'emot', 'empathi', 'empathy', 'empir', 'employ', 'employe', 'empti', 'en', 'enabl', 'encount', 'encourag', 'end', 'endless', 'endors', 'enemi', 'enemies', 'enemy', 'energi', 'enforc', 'engag', 'engin', 'england', 'english', 'enjoy', 'enough', 'enslav', 'enter', 'entertain', 'entir', 'entitl', 'environ', 'environment', 'ep', 'episod', 'episode', 'epitom', 'epstein', 'equal', 'equality', 'equat', 'equival', 'er', 'era', 'erad', 'eras', 'erdogan', 'error', 'es', 'esau', 'escap', 'eso', 'esp', 'especi', 'espn', 'essa', 'essenti', 'esta', 'establish', 'esteem', 'et', 'etc', 'etern', 'ethic', 'ethnic', 'eu', 'europ', 'europe', 'european', 'eva', 'evan', 'evangel', 'even', 'event', 'events', 'eventu', 'ever', 'everi', 'everybodi', 'everybody', 'everyday', 'everyon', 'everyone', 'everyth', 'everything', 'everytim', 'everywher', 'everywhere', 'evid', 'evidence', 'evil', 'evolv', 'ew', 'ex', 'exact', 'exactly', 'exam', 'exampl', 'example', 'excel', 'except', 'excess', 'excit', 'exclud', 'excus', 'excuse', 'execut', 'exercis', 'exist', 'existed', 'exists', 'expect', 'expel', 'expens', 'experi', 'experienc', 'experience', 'expert', 'expir', 'explain', 'explicit', 'exploit', 'expos', 'express', 'extens', 'extermin', 'extra', 'extrem', 'extremism', 'extremist', 'extremists', 'eye', 'eyebrow', 'eyes', 'ezidi', 'fabric', 'face', 'face_with_tears_of_joy', 'facebook', 'faces', 'fact', 'factor', 'factori', 'facts', 'factual', 'fag', 'faggot', 'fail', 'failur', 'fair', 'fairi', 'fairooz', 'faith', 'fake', 'fall', 'fallen', 'fals', 'false', 'fam', 'fame', 'famili', 'familiar', 'family', 'famous', 'fan', 'fanat', 'fandom', 'fans', 'fantas', 'fantasi', 'far', 'faridxx', 'farright', 'fart', 'fascism', 'fascist', 'fashion', 'fast', 'fat', 'fate', 'father', 'fault', 'fav', 'fave', 'favor', 'favorit', 'favour', 'favourit', 'fazer', 'fb', 'fbi', 'fck', 'fcking', 'fear', 'featur', 'fed', 'feder', 'fee', 'feed', 'feel', 'feelings', 'feet', 'fell', 'fellow', 'felt', 'femal', 'female', 'females', 'femin', 'feminazi', 'feminin', 'feminism', 'feminist', 'feminists', 'festiv', 'fetish', 'ffs', 'fiction', 'field', 'fight', 'fighter', 'fighters', 'fighting', 'figur', 'file', 'filipino', 'fill', 'film', 'filter', 'filth', 'filthi', 'final', 'finally', 'financ', 'financi', 'find', 'fine', 'finest', 'fing', 'finger', 'finicalgal', 'finish', 'finna', 'fir', 'fire', 'fired', 'firm', 'first', 'fist', 'fit', 'five', 'fix', 'fk', 'flag', 'flame', 'flash', 'flat', 'flee', 'fli', 'flight', 'flip', 'flirt', 'flood', 'floor', 'florida', 'flourish', 'flow', 'floyd', 'flush', 'fo', 'focus', 'fogl', 'foh', 'folk', 'folks', 'follow', 'followers', 'food', 'fool', 'foolish', 'fools', 'foot', 'footbal', 'football', 'forbid', 'forc', 'force', 'foreign', 'forev', 'forever', 'forget', 'forgiv', 'forgot', 'forgotten', 'fork', 'form', 'former', 'forward', 'fought', 'foul', 'found', 'foundat', 'founder', 'four', 'fourth', 'fox', 'fr', 'fragil', 'franc', 'france', 'frank', 'franken', 'franki', 'fraud', 'frauds', 'freak', 'free', 'freedom', 'french', 'frequent', 'fresh', 'freshman', 'fri', 'friday', 'friend', 'friends', 'friendship', 'frighten', 'frm', 'frog', 'front', 'frustrat', 'fuck', 'fuckboy', 'fucken', 'fucker', 'fuckin', 'fuckn', 'fucks', 'fuel', 'fuk', 'fulani', 'full', 'fulli', 'fun', 'fund', 'fundament', 'fundamentalist', 'funni', 'funnier', 'funniest', 'funny', 'futur', 'future', 'fyi', 'gain', 'gal', 'game', 'gamer', 'gamerg', 'gamergate', 'games', 'ganda', 'gandhi', 'gang', 'gangs', 'gap', 'garbag', 'garden', 'gas', 'gass', 'gate', 'gater', 'gather', 'gave', 'gawd', 'gay', 'gayl', 'gayrap', 'gays', 'gaza', 'gc', 'gdc', 'gear', 'gen', 'gender', 'general', 'generalis', 'generat', 'genius', 'genocid', 'genocide', 'gent', 'genuin', 'georg', 'georgia', 'german', 'germani', 'get', 'gettin', 'gf', 'gg', 'ghazwaehind', 'ghetto', 'ghost', 'ghostbust', 'giant', 'gift', 'ginger', 'gir', 'girl', 'girlfriend', 'girls', 'give', 'given', 'glad', 'glass', 'glasses', 'glee', 'global', 'globe', 'glow', 'go', 'goal', 'goat', 'god', 'goddamn', 'gods', 'goe', 'goes', 'goin', 'going', 'gold', 'golden', 'golf', 'gon', 'gona', 'gone', 'gonna', 'good', 'goodby', 'goodnight', 'googl', 'goon', 'gop', 'gorgeous', 'gorilla', 'gosh', 'gossip', 'got', 'goth', 'gotta', 'gotten', 'gov', 'govern', 'government', 'governor', 'govt', 'grab', 'grace', 'grad', 'grade', 'graduat', 'graham', 'grammar', 'grand', 'grandma', 'grandmoth', 'grandpar', 'grant', 'graphic', 'grate', 'grave', 'great', 'greater', 'greatest', 'greek', 'green', 'greet', 'grew', 'grip', 'groom', 'gross', 'ground', 'group', 'groups', 'grow', 'grown', 'growth', 'grudg', 'gt', 'gtfo', 'gtfoh', 'gtgt', 'gtlt', 'guarante', 'guard', 'guardian', 'gue', 'guess', 'guest', 'guid', 'guilt', 'guilti', 'gujarat', 'gulf', 'gun', 'gunna', 'guns', 'gurl', 'gut', 'guy', 'guys', 'gw', 'gym', 'h8', 'ha', 'ha89', 'hace', 'hacer', 'hack', 'hadith', 'hadiths', 'hadnt', 'haha', 'hahah', 'hahaha', 'hahahaha', 'hahahahaha', 'hai', 'hail', 'hair', 'halal', 'halala', 'half', 'halfway', 'hall', 'halloween', 'hallway', 'hama', 'hamas', 'han', 'hand', 'handicap', 'handl', 'hands', 'hang', 'hannah', 'happen', 'happened', 'happening', 'happens', 'happi', 'happili', 'happy', 'haq', 'haram', 'harass', 'harassed', 'harassment', 'hard', 'hardcor', 'harder', 'hardest', 'harm', 'harmless', 'harrass', 'harri', 'harsh', 'hart', 'harvard', 'hashtag', 'hasnt', 'hat', 'hate', 'hateful', 'hater', 'hating', 'hatr', 'hatred', 'hav', 'havent', 'hay', 'he', 'head', 'headlin', 'heads', 'heal', 'health', 'healthi', 'heap', 'hear', 'heard', 'heart', 'heart_suit', 'hearts', 'heat', 'heaven', 'heavi', 'heavili', 'hebrew', 'heck', 'hed', 'heel', 'heels', 'hehe', 'height', 'held', 'hell', 'hella', 'hello', 'help', 'henc', 'heritag', 'hero', 'heroes', 'heroin', 'hes', 'hey', 'hi', 'hick', 'hidden', 'hide', 'high', 'higher', 'highest', 'highlight', 'highschool', 'hijab', 'hijack', 'hilari', 'hilarious', 'hill', 'hillari', 'hind', 'hindi', 'hindu', 'hinduism', 'hindumuslim', 'hindus', 'hindushindutvahindusthanhuman', 'hindutva', 'hint', 'hip', 'hire', 'hispan', 'histor', 'histori', 'history', 'hit', 'hitler', 'hiv', 'hm', 'hmm', 'hmmm', 'ho', 'hoax', 'hobbi', 'hockey', 'hoe', 'hoes', 'hoje', 'hold', 'hole', 'holi', 'holiday', 'holli', 'hollywood', 'holocaust', 'home', 'homecom', 'homeless', 'homeschool', 'hometown', 'homework', 'homi', 'homo', 'homophob', 'homophobia', 'homophobic', 'homosexu', 'homosexuality', 'honest', 'honestly', 'honey', 'honor', 'honour', 'hood', 'hook', 'hooker', 'hoor', 'hop', 'hope', 'horrend', 'horribl', 'horrible', 'horrid', 'horrif', 'horror', 'hors', 'horse', 'hospit', 'host', 'hostil', 'hot', 'hotel', 'hour', 'hours', 'hous', 'house', 'household', 'howev', 'however', 'hrs', 'hs', 'ht', 'htt', 'http', 'hug', 'huge', 'huh', 'human', 'humanitarian', 'humanity', 'humbl', 'humili', 'humor', 'humour', 'hun', 'hundr', 'hung', 'hungri', 'hunt', 'hurt', 'husband', 'hussain', 'hv', 'hw', 'hype', 'hypocrisi', 'hypocrisy', 'hypocrit', 'hypocrite', 'hypocrites', 'iam', 'ian', 'ibn', 'ice', 'icon', 'id', 'idc', 'idea', 'ideal', 'ideas', 'ident', 'identifi', 'identity', 'ideolog', 'ideology', 'idgaf', 'idiot', 'idiotic', 'idiots', 'idk', 'idol', 'ie', 'if', 'ig', 'ignor', 'ignorance', 'ignorant', 'ii', 'ik', 'ili', 'ill', 'illeg', 'illegal', 'illiter', 'im', 'ima', 'imag', 'image', 'imagin', 'imaginari', 'imagine', 'imam', 'imma', 'immatur', 'immedi', 'immediately', 'immigr', 'immigrants', 'immun', 'imo', 'impact', 'impeach', 'imperi', 'imperialism', 'implement', 'impli', 'import', 'important', 'impos', 'imposs', 'impress', 'impression', 'imprison', 'improv', 'in', 'inappropri', 'inc', 'incest', 'incid', 'incident', 'incit', 'includ', 'inclus', 'incorrect', 'increas', 'incred', 'incur', 'ind', 'inde', 'independ', 'india', 'indian', 'indians', 'indigen', 'indirect', 'individu', 'indoctrin', 'indulg', 'industri', 'inequ', 'infant', 'infect', 'inferior', 'infidel', 'infiltr', 'influenc', 'info', 'inform', 'inher', 'inhuman', 'initi', 'injustic', 'inner', 'innoc', 'insan', 'insane', 'insecur', 'insensit', 'insert', 'insid', 'insist', 'inspir', 'insta', 'instagram', 'instant', 'instead', 'instig', 'institut', 'instruct', 'insult', 'insults', 'integr', 'intellect', 'intellectu', 'intellig', 'intend', 'intens', 'intent', 'interact', 'interest', 'interesting', 'interfer', 'intern', 'internet', 'interpret', 'interview', 'intimid', 'intoler', 'introduc', 'invad', 'invalid', 'invas', 'invent', 'invest', 'investig', 'invit', 'involv', 'involved', 'ion', 'ip', 'iphon', 'iq', 'ir', 'iran', 'iranian', 'iraq', 'iraqi', 'ireland', 'irish', 'irl', 'iron', 'ironi', 'irrelev', 'irrelevant', 'irrespect', 'irrit', 'isalm', 'isi', 'isis', 'islam', 'islamic', 'islamist', 'islamists', 'islamolunat', 'islamophob', 'islamophobia', 'island', 'isnt', 'isol', 'isra', 'israel', 'isso', 'issu', 'issue', 'issues', 'it', 'italian', 'item', 'itll', 'iv', 'ive', 'ja', 'jack', 'jackass', 'jackson', 'jag', 'jai', 'jail', 'jamati', 'jame', 'japan', 'japanes', 'jare', 'jay', 'jealous', 'jealousi', 'jean', 'jehadi', 'jenni', 'jerk', 'jersey', 'jerusalem', 'jess', 'jesus', 'jew', 'jewish', 'jews', 'jfc', 'ji', 'jihad', 'jihadi', 'jihadis', 'jihadist', 'jim', 'jimmi', 'jinnah', 'jk', 'jo', 'job', 'jobs', 'jock', 'joe', 'joey', 'john', 'johnson', 'join', 'joke', 'joker', 'jokes', 'jone', 'jordan', 'josh', 'jourisra', 'journal', 'journalism', 'journalist', 'journey', 'joy', 'jr', 'js', 'judeochristian', 'judg', 'judge', 'judgement', 'judgment', 'juic', 'juli', 'jump', 'jungl', 'junior', 'jus', 'justic', 'justice', 'justifi', 'justified', 'justin', 'ka', 'kaafir', 'kaffir', 'kafir', 'kalam', 'kany', 'karen', 'karma', 'kashmir', 'kashmiri', 'kati', 'kayleigh', 'ke', 'keep', 'kelli', 'kept', 'kerala', 'kevin', 'key', 'khan', 'ki', 'kick', 'kid', 'kidding', 'kidnap', 'kids', 'kill', 'killed', 'killer', 'killings', 'kim', 'kind', 'kinda', 'kindergarten', 'king', 'kingdom', 'kiss', 'kitchen', 'kkk', 'klan', 'km', 'knee', 'kneel', 'knew', 'knife', 'kno', 'knock', 'know', 'knowledg', 'knowledge', 'known', 'knows', 'knw', 'ko', 'koban', 'kong', 'koran', 'korea', 'korean', 'kpop', 'ku', 'kuch', 'kurd', 'kurdish', 'kurds', 'kyle', 'la', 'label', 'labor', 'labour', 'lack', 'lad', 'laden', 'ladi', 'ladies', 'lady', 'laid', 'lakh', 'lame', 'land', 'lane', 'lang', 'languag', 'language', 'larg', 'largest', 'last', 'late', 'lately', 'later', 'latest', 'latin', 'latino', 'latter', 'laugh', 'laughing', 'laughter', 'launch', 'lauren', 'law', 'laws', 'lawyer', 'lay', 'lazi', 'le', 'lead', 'leader', 'leadership', 'leagu', 'leak', 'lean', 'learn', 'learnt', 'least', 'leav', 'leave', 'lebron', 'lectur', 'led', 'lee', 'left', 'lefti', 'leftist', 'leg', 'legal', 'legend', 'legisl', 'legit', 'legitim', 'legitimaci', 'lemm', 'lemon', 'leo', 'lesbian', 'less', 'lesson', 'let', 'letter', 'level', 'lewi', 'lgbt', 'lgbtq', 'li', 'liar', 'liars', 'lib', 'liber', 'liberal', 'liberals', 'libertarian', 'liberti', 'librari', 'libya', 'licens', 'lick', 'lie', 'lies', 'life', 'lift', 'light', 'lightskin', 'lik', 'likes', 'lil', 'limit', 'line', 'link', 'lip', 'lips', 'list', 'listen', 'liter', 'literally', 'littl', 'live', 'liver', 'lives', 'living', 'lloyd', 'lmao', 'lmaoo', 'lmaooo', 'lmaoooo', 'lmaooooo', 'lmaooooooo', 'lmfao', 'lmfaooo', 'lmfaoooo', 'lo', 'load', 'lobbi', 'local', 'locat', 'lock', 'lockdown', 'locker', 'log', 'logan', 'logic', 'logo', 'lokijotunn', 'lol', 'london', 'lone', 'long', 'longer', 'look', 'lookin', 'looks', 'loos', 'loot', 'lord', 'los', 'lose', 'loser', 'loss', 'lost', 'lot', 'loud', 'loui', 'love', 'lover', 'low', 'lower', 'lowest', 'lowkey', 'loyal', 'lt', 'lt3', 'ltlt', 'ltltlt', 'luca', 'luck', 'lucki', 'lucky', 'luke', 'lunat', 'lunch', 'luv', 'lying', 'lyk', 'lynch', 'lynn', 'lyric', 'maam', 'machin', 'mad', 'madam', 'made', 'madrassa', 'maga', 'magazin', 'magic', 'maher', 'mai', 'mail', 'main', 'mainstream', 'maintain', 'major', 'majority', 'make', 'maker', 'makeup', 'makin', 'malay', 'malaysia', 'malcolm', 'male', 'males', 'mall', 'mama', 'man', 'manag', 'mandir', 'mane', 'mani', 'maninblack', 'manipul', 'mankind', 'manner', 'manu', 'manufactur', 'many', 'map', 'march', 'margaret', 'margin', 'mari', 'marin', 'mark', 'market', 'marri', 'marriag', 'marriage', 'married', 'martial', 'martin', 'martyr', 'marvel', 'marxist', 'mas', 'masculin', 'masculinity', 'masjid', 'mask', 'mass', 'massacr', 'massiv', 'master', 'match', 'mate', 'materi', 'math', 'matt', 'matter', 'matters', 'matur', 'maulana', 'max', 'may', 'mayb', 'maybe', 'mayor', 'me', 'meal', 'mean', 'meanest', 'meaning', 'means', 'meant', 'meanwhil', 'meanwhile', 'meat', 'meatbal', 'mecca', 'med', 'medal', 'media', 'medic', 'medina', 'meet', 'meghan', 'meh', 'mei', 'melon', 'melt', 'member', 'members', 'meme', 'memori', 'men', 'menina', 'mental', 'mentality', 'mention', 'mentions', 'mentor', 'menu', 'merci', 'merciless', 'mere', 'mess', 'messag', 'message', 'messi', 'met', 'meth', 'method', 'meu', 'mexican', 'mf', 'mfs', 'mi', 'mic', 'michael', 'michell', 'michigan', 'microbrain', 'mid', 'middl', 'middlehigh', 'might', 'migrat', 'mike', 'mild', 'mile', 'miley', 'milit', 'militari', 'militia', 'milk', 'million', 'min', 'mind', 'minds', 'mindset', 'mine', 'minha', 'minimum', 'minion', 'minist', 'minnesota', 'minor', 'minorities', 'minority', 'minut', 'mirror', 'miseduc', 'miser', 'mislead', 'misogyni', 'misogynist', 'misogynistic', 'misogyny', 'miss', 'mission', 'mistak', 'mistake', 'mistakes', 'mistreat', 'misus', 'mitt', 'mix', 'mlk', 'mlm', 'mmm', 'mmmm', 'mo', 'moan', 'mob', 'mock', 'mode', 'model', 'models', 'moder', 'modern', 'modi', 'moham', 'mohammad', 'mohammed', 'mole', 'molest', 'mom', 'moment', 'momma', 'mommi', 'monday', 'money', 'monger', 'monkey', 'monster', 'month', 'months', 'mood', 'moon', 'moor', 'moot', 'moral', 'morgan', 'morn', 'morning', 'moron', 'morons', 'mosqu', 'mosque', 'mosques', 'mosul', 'mother', 'motherfuck', 'motiv', 'mouth', 'move', 'movement', 'movi', 'movie', 'movies', 'mp', 'mr', 'mrs', 'ms', 'msm', 'mt', 'much', 'mughal', 'muhammad', 'mullah', 'multipl', 'mum', 'mumbai', 'murder', 'murdered', 'murderer', 'muscl', 'music', 'muslim', 'muslims', 'muslimsjihadisterrorist', 'must', 'mustv', 'mute', 'mutual', 'myth', 'mytholog', 'na', 'naacp', 'nafisa', 'nah', 'nahi', 'naik', 'nail', 'nake', 'name', 'names', 'nanci', 'nao', 'narcissist', 'narrat', 'narrative', 'narrow', 'nasti', 'nasty', 'nation', 'nationalist', 'nationality', 'nativ', 'nato', 'natur', 'naw', 'nazi', 'nazis', 'nazism', 'nba', 'nd', 'ne', 'near', 'necessari', 'necessarili', 'necessary', 'neck', 'need', 'needed', 'negat', 'negro', 'negros', 'nehru', 'neighbor', 'neighborhood', 'neither', 'neo', 'nephew', 'nephilim', 'nerd', 'nerdi', 'nerds', 'nerv', 'net', 'netflix', 'network', 'never', 'new', 'news', 'next', 'ng', 'ni', 'nice', 'nicer', 'nick', 'nicki', 'nicknam', 'nig', 'niger', 'nigeria', 'nigerian', 'nigga', 'niggas', 'nigger', 'niggers', 'night', 'nightclub', 'nightmar', 'nikki', 'nimoy', 'nine', 'no', 'nobl', 'nobodi', 'nomin', 'non', 'none', 'nonmuslim', 'nonmuslims', 'nonsens', 'nonsense', 'nonstop', 'nope', 'norm', 'normal', 'north', 'northern', 'nose', 'not', 'note', 'noth', 'nothing', 'notic', 'notice', 'notif', 'notion', 'novel', 'novemb', 'now', 'nowaday', 'nowher', 'npr', 'nrc', 'nt', 'nuclear', 'nude', 'nuke', 'number', 'numer', 'nun', 'nurs', 'nurses', 'nut', 'nword', 'ny', 'nyc', 'não', 'obama', 'obey', 'object', 'oblig', 'obnoxi', 'observ', 'obsess', 'obvious', 'occupi', 'occur', 'ocean', 'odd', 'ofc', 'offenc', 'offend', 'offended', 'offens', 'offensive', 'offer', 'offic', 'office', 'offici', 'often', 'og', 'oh', 'ohh', 'oil', 'oj', 'ok', 'okay', 'oktar', 'ol', 'old', 'older', 'oldest', 'ole', 'omar', 'omfg', 'omg', 'on', 'onc', 'one', 'ones', 'onli', 'onlin', 'online', 'onlyfan', 'onstag', 'onto', 'oo', 'oof', 'oomf', 'ooo', 'oop', 'op', 'open', 'opening', 'oper', 'opinion', 'opinions', 'oppon', 'opportun', 'opportunity', 'oppos', 'opposit', 'oppress', 'oppressed', 'oppression', 'option', 'oral', 'orang', 'order', 'org', 'organ', 'organis', 'organization', 'organizations', 'orient', 'origin', 'orthodox', 'os', 'osama', 'others', 'otherwis', 'otherwise', 'ottoman', 'ourselv', 'out', 'outcast', 'outfit', 'outfits', 'outlaw', 'outlet', 'outrag', 'outsid', 'outside', 'outta', 'overal', 'overweight', 'overwhelm', 'owe', 'owner', 'pa', 'pack', 'pad', 'paedophil', 'paedophilia', 'page', 'paid', 'pain', 'paint', 'pair', 'pak', 'paki', 'pakistan', 'pakistani', 'pal', 'pale', 'paleo', 'palestin', 'palestine', 'palestinian', 'palestinians', 'pancak', 'pandem', 'pandemic', 'pander', 'pandit', 'panel', 'panic', 'pant', 'panther', 'paper', 'par', 'para', 'parallel', 'parent', 'parenthood', 'parents', 'park', 'parodi', 'part', 'parti', 'particip', 'particular', 'partit', 'partner', 'party', 'pass', 'passion', 'passiv', 'past', 'pastor', 'pat', 'patch', 'path', 'pathet', 'pathetic', 'patient', 'patriot', 'pattern', 'paul', 'pay', 'pc', 'pe', 'peac', 'peace', 'peaceful', 'peak', 'peddl', 'pedo', 'pedophil', 'pedophile', 'pedophilia', 'peep', 'peer', 'pelosi', 'pen', 'penc', 'peninsula', 'penis', 'peopl', 'people', 'per', 'perceiv', 'percent', 'percentag', 'percept', 'perfect', 'perform', 'perhap', 'period', 'permiss', 'permit', 'pero', 'perpetr', 'perpetu', 'persecut', 'person', 'persona', 'personality', 'personally', 'perspect', 'perspective', 'pervert', 'pesh', 'peshmerga', 'pessoa', 'pet', 'pete', 'peter', 'petertownsend7', 'petit', 'petition', 'petti', 'pewdiepi', 'phase', 'phobic', 'phone', 'phoni', 'photo', 'photoshop', 'phrase', 'physic', 'pic', 'pick', 'pictur', 'picture', 'pictures', 'pie', 'piec', 'pig', 'pile', 'pill', 'pimp', 'pin', 'pink', 'pipe', 'piss', 'pissed', 'pitch', 'piti', 'pizza', 'pl', 'place', 'places', 'plain', 'plan', 'plane', 'planet', 'plant', 'plate', 'platform', 'play', 'player', 'players', 'playground', 'pleas', 'please', 'plenti', 'plot', 'pls', 'plus', 'plz', 'pm', 'poc', 'pocket', 'podcast', 'point', 'pointless', 'points', 'poison', 'polic', 'police', 'polici', 'policies', 'policy', 'polit', 'politician', 'politics', 'poll', 'poop', 'poor', 'pop', 'popul', 'popular', 'population', 'por', 'porch', 'pork', 'porn', 'porqu', 'portion', 'portland', 'portray', 'pos', 'pose', 'posit', 'possess', 'possibl', 'possible', 'post', 'poster', 'pot', 'potenti', 'potter', 'potus', 'pound', 'pour', 'poverti', 'power', 'ppl', 'pq', 'pr', 'pra', 'practic', 'prais', 'prank', 'pray', 'prayer', 'pre', 'preach', 'precious', 'predat', 'predatori', 'predict', 'predomin', 'prefer', 'pregnant', 'prejudic', 'prep', 'prepar', 'present', 'presid', 'president', 'press', 'pressur', 'pretend', 'pretti', 'pretty', 'prevent', 'previous', 'price', 'prick', 'pride', 'priest', 'primari', 'prime', 'princess', 'princip', 'principl', 'print', 'prison', 'privat', 'privileg', 'privilege', 'prize', 'pro', 'prob', 'probabl', 'problem', 'problemat', 'problematic', 'problems', 'proceed', 'process', 'proclaim', 'produc', 'product', 'profess', 'profession', 'professor', 'profil', 'profit', 'program', 'progress', 'progressive', 'prohibit', 'project', 'prolif', 'prolli', 'prom', 'promis', 'promo', 'promot', 'pronoun', 'pronounc', 'proof', 'prop', 'propag', 'propaganda', 'proper', 'properti', 'property', 'prophet', 'propos', 'prosecut', 'prosper', 'prostitut', 'protect', 'protest', 'protestor', 'proud', 'prove', 'proven', 'provid', 'provok', 'ps', 'psa', 'pseudo', 'psycho', 'psycholog', 'ptsd', 'public', 'publish', 'puerto', 'pull', 'pulpit', 'pump', 'punch', 'punchlin', 'punish', 'punk', 'puns', 'puppet', 'pure', 'purpl', 'purpos', 'purpose', 'push', 'pussi', 'pussy', 'put', 'putin', 'pyramid', 'qaeda', 'qatar', 'qualifi', 'qualiti', 'quando', 'quarantin', 'quarter', 'que', 'queen', 'queer', 'quem', 'question', 'questions', 'quick', 'quickly', 'quiet', 'quit', 'quo', 'quot', 'quran', 'rabid', 'race', 'races', 'racial', 'racism', 'racist', 'racists', 'radic', 'radical', 'radio', 'rage', 'raid', 'rainbow', 'rais', 'ralli', 'ram', 'ramadan', 'rampant', 'ran', 'random', 'rang', 'rank', 'rant', 'rap', 'rape', 'raped', 'rapegay', 'rapist', 'rapists', 'rapper', 'raqqa', 'rare', 'rat', 'rate', 'rather', 'ratings', 'ration', 'ravenhuwolf', 'raw', 'ray', 'reach', 'react', 'reaction', 'read', 'readi', 'real', 'realis', 'realiti', 'reality', 'realiz', 'realli', 'really', 'reason', 'reasons', 'rebecca', 'recal', 'receiv', 'recent', 'recently', 'recit', 'reclaim', 'recogn', 'recognis', 'recommend', 'record', 'recov', 'recruit', 'red', 'reddit', 'redempt', 'redic', 'redneck', 'reduc', 'ref', 'refer', 'refin', 'reflect', 'reform', 'refuge', 'refus', 'regard', 'regardless', 'regim', 'region', 'regist', 'regret', 'regular', 'reinforc', 'reject', 'relat', 'relationship', 'relax', 'releas', 'relentless', 'relev', 'reli', 'reliabl', 'relief', 'religi', 'religion', 'religions', 'religious', 'remain', 'remark', 'rememb', 'remember', 'remind', 'remot', 'remov', 'rent', 'reopen', 'rep', 'repeat', 'repent', 'replac', 'repli', 'report', 'reporter', 'repres', 'represent', 'repress', 'reproduct', 'republ', 'republican', 'republicans', 'request', 'requir', 'rescu', 'research', 'reserv', 'resid', 'resign', 'resist', 'resort', 'resourc', 'respect', 'respond', 'respons', 'response', 'responsibility', 'rest', 'restaur', 'restaurant', 'restaurants', 'restrict', 'result', 'retali', 'retard', 'retarded', 'retir', 'return', 'retweet', 'reunion', 'reveal', 'revel', 'reveng', 'revenge', 'revers', 'review', 'revolt', 'revolut', 'revolv', 'reward', 'rhetor', 'rhyme', 'rican', 'rice', 'rich', 'richard', 'rid', 'ride', 'ridicul', 'ridiculous', 'rig', 'right', 'righteous', 'rights', 'rightw', 'riley', 'ring', 'riot', 'rioter', 'riots', 'rip', 'rise', 'risk', 'river', 'riwired', 'rli', 'rlli', 'rn', 'road', 'roast', 'rob', 'robber', 'robert', 'roblox', 'rock', 'rocket', 'rofl', 'roger', 'rohingya', 'role', 'roll', 'roman', 'romanc', 'romney', 'roof', 'room', 'roommat', 'root', 'rope', 'rose', 'ross', 'rot', 'rough', 'round', 'routin', 'row', 'roxan', 'roy', 'royal', 'rs', 'rss', 'rt', 'rub', 'rubbish', 'rudawenglish', 'rude', 'ruin', 'rule', 'ruler', 'rules', 'rumor', 'rumour', 'run', 'rush', 'russia', 'russian', 'ruthless', 'rw', 'ryan', 'sa', 'sab', 'sack', 'sacr', 'sad', 'sadist', 'sadly', 'saeed', 'safe', 'safer', 'safeti', 'safety', 'sahih', 'said', 'saint', 'sake', 'salafi', 'sale', 'salon', 'salti', 'sam', 'samjags', 'sampl', 'san', 'sanction', 'sand', 'sander', 'sandwich', 'sane', 'sanghi', 'santa', 'sarah', 'sass', 'sassi', 'sassy', 'sat', 'satan', 'satir', 'satisfi', 'saturday', 'saudi', 'sausag', 'sausage', 'savag', 'savannah', 'save', 'savior', 'saw', 'say', 'sayin', 'saying', 'says', 'sc', 'scale', 'scandal', 'scare', 'scared', 'scari', 'scary', 'scenario', 'scene', 'scheme', 'scholar', 'school', 'schooler', 'schoolhigh', 'schools', 'schoolyard', 'scienc', 'science', 'scientist', 'score', 'scott', 'scream', 'screen', 'screenshot', 'screw', 'script', 'scroll', 'scum', 'scumbag', 'se', 'sea', 'seabreez', 'seal', 'sean', 'search', 'season', 'seat', 'second', 'secondari', 'secret', 'secretari', 'section', 'secular', 'secularism', 'secur', 'security', 'see', 'seed', 'seek', 'seem', 'seen', 'segreg', 'select', 'self', 'selfi', 'selfish', 'sell', 'sellout', 'selv', 'semest', 'semit', 'senat', 'send', 'senior', 'sens', 'sense', 'sensit', 'sensitive', 'sent', 'sentenc', 'sentiment', 'separ', 'ser', 'seri', 'serial', 'series', 'serious', 'seriously', 'serv', 'servic', 'session', 'set', 'settl', 'seven', 'sever', 'sex', 'sexi', 'sexism', 'sexist', 'sexual', 'shade', 'shadi', 'shadow', 'shah', 'shake', 'shall', 'shame', 'shameless', 'shaming', 'shane', 'shape', 'share', 'sharia', 'shark', 'shave', 'shawti', 'shed', 'sheep', 'shell', 'shelter', 'sheri', 'shes', 'shi', 'shia', 'shield', 'shift', 'shine', 'ship', 'shirt', 'shit', 'shite', 'shitti', 'shitty', 'shock', 'shoe', 'shoot', 'shooter', 'shop', 'short', 'shot', 'shoulda', 'shoulder', 'shouldnt', 'shouldv', 'shout', 'shoutout', 'shove', 'show', 'shower', 'shown', 'sht', 'shud', 'shut', 'shutup', 'si', 'sibl', 'sick', 'side', 'sides', 'sigh', 'sight', 'sign', 'signal', 'signific', 'sikh', 'sikhs', 'silenc', 'silence', 'silent', 'silli', 'sim', 'similar', 'simpl', 'simple', 'simpli', 'simultan', 'sin', 'sinc', 'sincer', 'sincerely', 'sing', 'singl', 'sink', 'sir', 'sis', 'sister', 'sit', 'site', 'situat', 'situation', 'six', 'size', 'sjw', 'sjws', 'skill', 'skin', 'skinni', 'skip', 'sky', 'sl', 'slander', 'slang', 'slap', 'slaughter', 'slave', 'slaver', 'slaveri', 'slavery', 'slaves', 'sleep', 'sleev', 'slept', 'slide', 'slight', 'slip', 'slogan', 'slow', 'slowli', 'slur', 'slurs', 'slut', 'sm', 'smack', 'small', 'smaller', 'smart', 'smarter', 'smash', 'smear', 'smell', 'smfh', 'smh', 'smile', 'smirk', 'smith', 'smoke', 'smug', 'smyth', 'snake', 'snap', 'snapchat', 'snatch', 'snow', 'so', 'soap', 'sobr', 'socal', 'soccer', 'social', 'socialist', 'societi', 'society', 'sociopath', 'sock', 'sofr', 'sofrendo', 'sofrer', 'sofro', 'soft', 'sold', 'soldier', 'sole', 'solid', 'solut', 'solv', 'somali', 'somalia', 'somebodi', 'someday', 'somehow', 'someon', 'someone', 'someth', 'something', 'sometim', 'sometimes', 'somewher', 'son', 'song', 'soo', 'soon', 'sooo', 'soooo', 'sophia', 'sophomor', 'sore', 'soro', 'sorri', 'sorry', 'sort', 'soul', 'sound', 'sourc', 'source', 'south', 'southern', 'space', 'spain', 'spam', 'spanish', 'spare', 'spark', 'speak', 'speaker', 'speci', 'special', 'specif', 'speech', 'spell', 'spend', 'spent', 'spew', 'spi', 'spike', 'spin', 'spirit', 'spiritu', 'spit', 'spite', 'split', 'spoil', 'spoke', 'spoken', 'sponsor', 'spook', 'sport', 'sports', 'sportsmanship', 'spot', 'spray', 'spread', 'squad', 'squar', 'st', 'stab', 'staff', 'stage', 'stalk', 'stan', 'stand', 'standard', 'standards', 'standup', 'star', 'stare', 'start', 'starv', 'stat', 'state', 'statement', 'statements', 'states', 'station', 'statist', 'statu', 'status', 'statutori', 'stay', 'steal', 'steam', 'step', 'stephen', 'stereotyp', 'stereotype', 'stereotypes', 'steve', 'stfu', 'stick', 'still', 'stock', 'stole', 'stolen', 'stomach', 'stomp', 'stone', 'stood', 'stoog', 'stop', 'stopped', 'store', 'stori', 'stories', 'storm', 'story', 'straight', 'strang', 'stranger', 'strateg', 'strategi', 'straw', 'stream', 'street', 'streets', 'strength', 'stress', 'stretch', 'strike', 'strip', 'stripper', 'strong', 'stronger', 'structur', 'struggl', 'stuck', 'student', 'students', 'studi', 'stuff', 'stunt', 'stupid', 'style', 'su', 'sua', 'sub', 'subban', 'subject', 'submiss', 'submit', 'succeed', 'success', 'suck', 'sucker', 'sucks', 'sudden', 'sudixitca', 'sue', 'suffer', 'suggest', 'suicid', 'suicide', 'suit', 'sum', 'summer', 'sun', 'sunday', 'sunnah', 'sunni', 'super', 'superior', 'suppli', 'support', 'supporter', 'suppos', 'suprem', 'supremaci', 'supremacist', 'supremacy', 'surah', 'sure', 'surpris', 'surprise', 'surprised', 'surrend', 'surround', 'surviv', 'survivor', 'suspect', 'suspend', 'swag', 'swear', 'sweat', 'sweden', 'sweet', 'sweetheart', 'swift', 'swim', 'switch', 'switzerland', 'sword', 'sydney', 'symbol', 'sympathi', 'sympathis', 'syria', 'syrian', 'system', 'systemat', 'só', 'ta', 'tabl', 'table', 'tactic', 'tag', 'take', 'taken', 'tale', 'talent', 'taliban', 'talk', 'talkin', 'tall', 'taller', 'tan', 'tap', 'tape', 'taqiyya', 'taquiyya', 'target', 'tart', 'tast', 'taste', 'tattoo', 'taught', 'taunt', 'tax', 'taylor', 'tayyoung', 'tbh', 'te', 'tea', 'teach', 'teacher', 'teachers', 'team', 'teams', 'tear', 'teas', 'tech', 'technic', 'ted', 'teen', 'teenag', 'teeth', 'televis', 'tell', 'tem', 'templ', 'temple', 'temples', 'ten', 'tend', 'tension', 'tent', 'term', 'terribl', 'terrible', 'terrifi', 'terror', 'terrorism', 'terrorist', 'terrorists', 'test', 'testament', 'texa', 'texan', 'text', 'tf', 'th', 'tha', 'thank', 'thanks', 'that', 'the', 'theater', 'theatr', 'thee', 'them', 'theme', 'themselv', 'theori', 'theory', 'therapi', 'therapist', 'therapy', 'therefor', 'they', 'theyd', 'theyll', 'theyr', 'theyv', 'thi', 'thick', 'thigh', 'thin', 'thing', 'things', 'think', 'thinkin', 'thinking', 'third', 'this', 'thn', 'tho', 'thor', 'thot', 'though', 'thought', 'thousand', 'thr', 'thread', 'threat', 'threaten', 'threats', 'three', 'threw', 'thrift', 'thrive', 'throat', 'throughout', 'throw', 'thrown', 'thru', 'tht', 'thug', 'thugs', 'thursday', 'thus', 'thx', 'ti', 'ticket', 'tie', 'tiger', 'tight', 'tik', 'tiktok', 'til', 'till', 'time', 'timelin', 'times', 'tinder', 'tini', 'tip', 'tire', 'tit', 'titl', 'title', 'titti', 'tl', 'tn', 'to', 'toast', 'today', 'todo', 'toe', 'togeth', 'together', 'toh', 'toilet', 'tok', 'token', 'told', 'toler', 'tom', 'tomboy', 'tommi', 'tomorrow', 'ton', 'tone', 'tongu', 'toni', 'tonight', 'too', 'took', 'tool', 'top', 'topic', 'tori', 'torment', 'toronto', 'tortur', 'torture', 'tosh', 'toss', 'total', 'touch', 'tough', 'tour', 'toward', 'towel', 'town', 'toxic', 'toy', 'track', 'trade', 'trader', 'tradit', 'traffic', 'tragic', 'trail', 'trailer', 'train', 'traitor', 'tran', 'trans', 'transfer', 'transform', 'transgend', 'translat', 'transphob', 'transphobia', 'trap', 'trash', 'trashi', 'trauma', 'traumat', 'travel', 'trayvon', 'treat', 'treatment', 'tree', 'trend', 'tri', 'trial', 'tribal', 'tribe', 'trick', 'trigger', 'trip', 'tripl', 'trobinsonnewera', 'troll', 'troop', 'trope', 'troubl', 'trouble', 'truck', 'true', 'truli', 'trump', 'trust', 'truth', 'try', 'tryin', 'tryna', 'tshirt', 'tsk', 'tt', 'tu', 'tuesday', 'tum', 'tumblr', 'tune', 'turk', 'turkey', 'turkish', 'turn', 'tv', 'tw', 'twat', 'tweet', 'tweets', 'twenti', 'twice', 'twin', 'twist', 'twitter', 'two', 'twt', 'ty', 'tyler', 'type', 'typic', 'uberfeminist', 'ugh', 'ugli', 'ugly', 'uh', 'uighur', 'uk', 'ukip', 'ukrain', 'ultim', 'um', 'uma', 'umar', 'ummah', 'un', 'una', 'unabl', 'unaccept', 'unarm', 'unawar', 'unbeliev', 'unborn', 'uncl', 'uncomfort', 'uncomfortable', 'underag', 'undermin', 'understand', 'understood', 'uneduc', 'unemploy', 'unequ', 'unfair', 'unfollow', 'unfortun', 'unfortunately', 'ungrat', 'unhappi', 'uni', 'unicorn', 'uniform', 'union', 'uniqu', 'unit', 'uniti', 'univers', 'university', 'unless', 'unlik', 'unnecessari', 'unpopular', 'unreal', 'up', 'updat', 'update', 'upload', 'upon', 'upper', 'upset', 'urban', 'urdu', 'ure', 'urg', 'urself', 'us', 'usa', 'use', 'useless', 'user', 'usernam', 'usual', 'utter', 'uu', 'uwu', 'uyghur', 'vagina', 'vai', 'valid', 'valley', 'valu', 'values', 'van', 'vandal', 'various', 'vast', 'vc', 'vehicl', 'verbal', 'veri', 'verifi', 'vers', 'version', 'versus', 'veteran', 'via', 'vibe', 'vic', 'vice', 'vicious', 'vicki', 'victim', 'victims', 'vida', 'video', 'videos', 'view', 'views', 'vika', 'vile', 'villag', 'villain', 'violat', 'violenc', 'violence', 'violent', 'viral', 'virgin', 'virtu', 'virtual', 'virus', 'vision', 'visit', 'vocal', 'você', 'voic', 'voice', 'volum', 'volunt', 'vomit', 'vote', 'voter', 'votes', 'voting', 'vou', 'vow', 'vp', 'vs', 'vsco', 'vulgar', 'vulner', 'wack', 'wadhwa', 'wage', 'waist', 'wait', 'wake', 'walk', 'wall', 'walmart', 'wanker', 'wanna', 'wannab', 'want', 'wants', 'war', 'warm', 'warn', 'warren', 'warrior', 'wars', 'wash', 'washington', 'wasnt', 'wast', 'wat', 'watch', 'watching', 'water', 'wave', 'way', 'wayn', 'ways', 'we', 'weak', 'wealth', 'wealthi', 'weapon', 'weapons', 'wear', 'weather', 'web', 'websit', 'website', 'wed', 'wedding', 'weeb', 'weed', 'week', 'weekend', 'weeks', 'weight', 'weird', 'weirdo', 'welcom', 'welfar', 'well', 'wen', 'went', 'wer', 'werent', 'west', 'western', 'wet', 'wev', 'wh', 'what', 'whatev', 'whatever', 'wheelchair', 'whenev', 'wherea', 'wherev', 'whether', 'whew', 'whi', 'whilst', 'whine', 'whini', 'whip', 'white', 'whites', 'whitey', 'whoa', 'whoever', 'whole', 'whoop', 'whore', 'whos', 'whose', 'wht', 'wid', 'wide', 'wife', 'wifey', 'wikipedia', 'wild', 'william', 'win', 'wind', 'window', 'wine', 'wing', 'winner', 'wipe', 'wise', 'wish', 'wit', 'witch', 'within', 'without', 'wive', 'wo', 'woah', 'woke', 'wolf', 'woman', 'women', 'wonder', 'wont', 'wood', 'word', 'words', 'wore', 'work', 'worker', 'working', 'workplac', 'works', 'world', 'worldwid', 'worri', 'worry', 'wors', 'worse', 'worship', 'worst', 'worth', 'worthi', 'worthless', 'would', 'wouldnt', 'wouldv', 'wow', 'wrap', 'wreck', 'wrestl', 'write', 'writer', 'written', 'wrong', 'wrote', 'wtf', 'wth', 'wud', 'wwe', 'xbox', 'xd', 'xenophob', 'xmas', 'xx', 'ya', 'yah', 'yall', 'yard', 'yay', 'yazidi', 'ye', 'yea', 'yeah', 'yeap', 'year', 'years', 'yell', 'yellow', 'yemen', 'yep', 'yes', 'yesterday', 'yet', 'yg', 'yo', 'yoho', 'york', 'you', 'youd', 'youll', 'youltwow', 'young', 'younger', 'youngest', 'your', 'yourselv', 'youth', 'youtub', 'youv', 'ypg', 'ypgypj', 'yr', 'yrs', 'yu', 'yuck', 'yuh', 'yummy', 'yung', 'yup', 'yur', 'zakir', 'zappe', 'zero', 'zimmerman', 'zionist', 'zombi', 'zone']\n",
            "TF-IDF result: [6.58439559 6.4562204  8.08847299 ... 8.51335618 8.94867425 8.86166287]\n",
            "\n",
            "\n"
          ]
        },
        {
          "output_type": "execute_result",
          "data": {
            "text/plain": [
              "       0     1     2     3     4     5     6     7     8     9     ...  4990  \\\n",
              "0       0.0   0.0   0.0   0.0   0.0   0.0   0.0   0.0   0.0   0.0  ...   0.0   \n",
              "1       0.0   0.0   0.0   0.0   0.0   0.0   0.0   0.0   0.0   0.0  ...   0.0   \n",
              "2       0.0   0.0   0.0   0.0   0.0   0.0   0.0   0.0   0.0   0.0  ...   0.0   \n",
              "3       0.0   0.0   0.0   0.0   0.0   0.0   0.0   0.0   0.0   0.0  ...   0.0   \n",
              "4       0.0   0.0   0.0   0.0   0.0   0.0   0.0   0.0   0.0   0.0  ...   0.0   \n",
              "...     ...   ...   ...   ...   ...   ...   ...   ...   ...   ...  ...   ...   \n",
              "31144   0.0   0.0   0.0   0.0   0.0   0.0   0.0   0.0   0.0   0.0  ...   0.0   \n",
              "31145   0.0   0.0   0.0   0.0   0.0   0.0   0.0   0.0   0.0   0.0  ...   0.0   \n",
              "31146   0.0   0.0   0.0   0.0   0.0   0.0   0.0   0.0   0.0   0.0  ...   0.0   \n",
              "31147   0.0   0.0   0.0   0.0   0.0   0.0   0.0   0.0   0.0   0.0  ...   0.0   \n",
              "31148   0.0   0.0   0.0   0.0   0.0   0.0   0.0   0.0   0.0   0.0  ...   0.0   \n",
              "\n",
              "       4991  4992  4993  4994  4995  4996  4997  4998  4999  \n",
              "0       0.0   0.0   0.0   0.0   0.0   0.0   0.0   0.0   0.0  \n",
              "1       0.0   0.0   0.0   0.0   0.0   0.0   0.0   0.0   0.0  \n",
              "2       0.0   0.0   0.0   0.0   0.0   0.0   0.0   0.0   0.0  \n",
              "3       0.0   0.0   0.0   0.0   0.0   0.0   0.0   0.0   0.0  \n",
              "4       0.0   0.0   0.0   0.0   0.0   0.0   0.0   0.0   0.0  \n",
              "...     ...   ...   ...   ...   ...   ...   ...   ...   ...  \n",
              "31144   0.0   0.0   0.0   0.0   0.0   0.0   0.0   0.0   0.0  \n",
              "31145   0.0   0.0   0.0   0.0   0.0   0.0   0.0   0.0   0.0  \n",
              "31146   0.0   0.0   0.0   0.0   0.0   0.0   0.0   0.0   0.0  \n",
              "31147   0.0   0.0   0.0   0.0   0.0   0.0   0.0   0.0   0.0  \n",
              "31148   0.0   0.0   0.0   0.0   0.0   0.0   0.0   0.0   0.0  \n",
              "\n",
              "[31149 rows x 5000 columns]"
            ],
            "text/html": [
              "\n",
              "  <div id=\"df-63ece42b-1049-4994-b0d6-60a65366a36a\">\n",
              "    <div class=\"colab-df-container\">\n",
              "      <div>\n",
              "<style scoped>\n",
              "    .dataframe tbody tr th:only-of-type {\n",
              "        vertical-align: middle;\n",
              "    }\n",
              "\n",
              "    .dataframe tbody tr th {\n",
              "        vertical-align: top;\n",
              "    }\n",
              "\n",
              "    .dataframe thead th {\n",
              "        text-align: right;\n",
              "    }\n",
              "</style>\n",
              "<table border=\"1\" class=\"dataframe\">\n",
              "  <thead>\n",
              "    <tr style=\"text-align: right;\">\n",
              "      <th></th>\n",
              "      <th>0</th>\n",
              "      <th>1</th>\n",
              "      <th>2</th>\n",
              "      <th>3</th>\n",
              "      <th>4</th>\n",
              "      <th>5</th>\n",
              "      <th>6</th>\n",
              "      <th>7</th>\n",
              "      <th>8</th>\n",
              "      <th>9</th>\n",
              "      <th>...</th>\n",
              "      <th>4990</th>\n",
              "      <th>4991</th>\n",
              "      <th>4992</th>\n",
              "      <th>4993</th>\n",
              "      <th>4994</th>\n",
              "      <th>4995</th>\n",
              "      <th>4996</th>\n",
              "      <th>4997</th>\n",
              "      <th>4998</th>\n",
              "      <th>4999</th>\n",
              "    </tr>\n",
              "  </thead>\n",
              "  <tbody>\n",
              "    <tr>\n",
              "      <th>0</th>\n",
              "      <td>0.0</td>\n",
              "      <td>0.0</td>\n",
              "      <td>0.0</td>\n",
              "      <td>0.0</td>\n",
              "      <td>0.0</td>\n",
              "      <td>0.0</td>\n",
              "      <td>0.0</td>\n",
              "      <td>0.0</td>\n",
              "      <td>0.0</td>\n",
              "      <td>0.0</td>\n",
              "      <td>...</td>\n",
              "      <td>0.0</td>\n",
              "      <td>0.0</td>\n",
              "      <td>0.0</td>\n",
              "      <td>0.0</td>\n",
              "      <td>0.0</td>\n",
              "      <td>0.0</td>\n",
              "      <td>0.0</td>\n",
              "      <td>0.0</td>\n",
              "      <td>0.0</td>\n",
              "      <td>0.0</td>\n",
              "    </tr>\n",
              "    <tr>\n",
              "      <th>1</th>\n",
              "      <td>0.0</td>\n",
              "      <td>0.0</td>\n",
              "      <td>0.0</td>\n",
              "      <td>0.0</td>\n",
              "      <td>0.0</td>\n",
              "      <td>0.0</td>\n",
              "      <td>0.0</td>\n",
              "      <td>0.0</td>\n",
              "      <td>0.0</td>\n",
              "      <td>0.0</td>\n",
              "      <td>...</td>\n",
              "      <td>0.0</td>\n",
              "      <td>0.0</td>\n",
              "      <td>0.0</td>\n",
              "      <td>0.0</td>\n",
              "      <td>0.0</td>\n",
              "      <td>0.0</td>\n",
              "      <td>0.0</td>\n",
              "      <td>0.0</td>\n",
              "      <td>0.0</td>\n",
              "      <td>0.0</td>\n",
              "    </tr>\n",
              "    <tr>\n",
              "      <th>2</th>\n",
              "      <td>0.0</td>\n",
              "      <td>0.0</td>\n",
              "      <td>0.0</td>\n",
              "      <td>0.0</td>\n",
              "      <td>0.0</td>\n",
              "      <td>0.0</td>\n",
              "      <td>0.0</td>\n",
              "      <td>0.0</td>\n",
              "      <td>0.0</td>\n",
              "      <td>0.0</td>\n",
              "      <td>...</td>\n",
              "      <td>0.0</td>\n",
              "      <td>0.0</td>\n",
              "      <td>0.0</td>\n",
              "      <td>0.0</td>\n",
              "      <td>0.0</td>\n",
              "      <td>0.0</td>\n",
              "      <td>0.0</td>\n",
              "      <td>0.0</td>\n",
              "      <td>0.0</td>\n",
              "      <td>0.0</td>\n",
              "    </tr>\n",
              "    <tr>\n",
              "      <th>3</th>\n",
              "      <td>0.0</td>\n",
              "      <td>0.0</td>\n",
              "      <td>0.0</td>\n",
              "      <td>0.0</td>\n",
              "      <td>0.0</td>\n",
              "      <td>0.0</td>\n",
              "      <td>0.0</td>\n",
              "      <td>0.0</td>\n",
              "      <td>0.0</td>\n",
              "      <td>0.0</td>\n",
              "      <td>...</td>\n",
              "      <td>0.0</td>\n",
              "      <td>0.0</td>\n",
              "      <td>0.0</td>\n",
              "      <td>0.0</td>\n",
              "      <td>0.0</td>\n",
              "      <td>0.0</td>\n",
              "      <td>0.0</td>\n",
              "      <td>0.0</td>\n",
              "      <td>0.0</td>\n",
              "      <td>0.0</td>\n",
              "    </tr>\n",
              "    <tr>\n",
              "      <th>4</th>\n",
              "      <td>0.0</td>\n",
              "      <td>0.0</td>\n",
              "      <td>0.0</td>\n",
              "      <td>0.0</td>\n",
              "      <td>0.0</td>\n",
              "      <td>0.0</td>\n",
              "      <td>0.0</td>\n",
              "      <td>0.0</td>\n",
              "      <td>0.0</td>\n",
              "      <td>0.0</td>\n",
              "      <td>...</td>\n",
              "      <td>0.0</td>\n",
              "      <td>0.0</td>\n",
              "      <td>0.0</td>\n",
              "      <td>0.0</td>\n",
              "      <td>0.0</td>\n",
              "      <td>0.0</td>\n",
              "      <td>0.0</td>\n",
              "      <td>0.0</td>\n",
              "      <td>0.0</td>\n",
              "      <td>0.0</td>\n",
              "    </tr>\n",
              "    <tr>\n",
              "      <th>...</th>\n",
              "      <td>...</td>\n",
              "      <td>...</td>\n",
              "      <td>...</td>\n",
              "      <td>...</td>\n",
              "      <td>...</td>\n",
              "      <td>...</td>\n",
              "      <td>...</td>\n",
              "      <td>...</td>\n",
              "      <td>...</td>\n",
              "      <td>...</td>\n",
              "      <td>...</td>\n",
              "      <td>...</td>\n",
              "      <td>...</td>\n",
              "      <td>...</td>\n",
              "      <td>...</td>\n",
              "      <td>...</td>\n",
              "      <td>...</td>\n",
              "      <td>...</td>\n",
              "      <td>...</td>\n",
              "      <td>...</td>\n",
              "      <td>...</td>\n",
              "    </tr>\n",
              "    <tr>\n",
              "      <th>31144</th>\n",
              "      <td>0.0</td>\n",
              "      <td>0.0</td>\n",
              "      <td>0.0</td>\n",
              "      <td>0.0</td>\n",
              "      <td>0.0</td>\n",
              "      <td>0.0</td>\n",
              "      <td>0.0</td>\n",
              "      <td>0.0</td>\n",
              "      <td>0.0</td>\n",
              "      <td>0.0</td>\n",
              "      <td>...</td>\n",
              "      <td>0.0</td>\n",
              "      <td>0.0</td>\n",
              "      <td>0.0</td>\n",
              "      <td>0.0</td>\n",
              "      <td>0.0</td>\n",
              "      <td>0.0</td>\n",
              "      <td>0.0</td>\n",
              "      <td>0.0</td>\n",
              "      <td>0.0</td>\n",
              "      <td>0.0</td>\n",
              "    </tr>\n",
              "    <tr>\n",
              "      <th>31145</th>\n",
              "      <td>0.0</td>\n",
              "      <td>0.0</td>\n",
              "      <td>0.0</td>\n",
              "      <td>0.0</td>\n",
              "      <td>0.0</td>\n",
              "      <td>0.0</td>\n",
              "      <td>0.0</td>\n",
              "      <td>0.0</td>\n",
              "      <td>0.0</td>\n",
              "      <td>0.0</td>\n",
              "      <td>...</td>\n",
              "      <td>0.0</td>\n",
              "      <td>0.0</td>\n",
              "      <td>0.0</td>\n",
              "      <td>0.0</td>\n",
              "      <td>0.0</td>\n",
              "      <td>0.0</td>\n",
              "      <td>0.0</td>\n",
              "      <td>0.0</td>\n",
              "      <td>0.0</td>\n",
              "      <td>0.0</td>\n",
              "    </tr>\n",
              "    <tr>\n",
              "      <th>31146</th>\n",
              "      <td>0.0</td>\n",
              "      <td>0.0</td>\n",
              "      <td>0.0</td>\n",
              "      <td>0.0</td>\n",
              "      <td>0.0</td>\n",
              "      <td>0.0</td>\n",
              "      <td>0.0</td>\n",
              "      <td>0.0</td>\n",
              "      <td>0.0</td>\n",
              "      <td>0.0</td>\n",
              "      <td>...</td>\n",
              "      <td>0.0</td>\n",
              "      <td>0.0</td>\n",
              "      <td>0.0</td>\n",
              "      <td>0.0</td>\n",
              "      <td>0.0</td>\n",
              "      <td>0.0</td>\n",
              "      <td>0.0</td>\n",
              "      <td>0.0</td>\n",
              "      <td>0.0</td>\n",
              "      <td>0.0</td>\n",
              "    </tr>\n",
              "    <tr>\n",
              "      <th>31147</th>\n",
              "      <td>0.0</td>\n",
              "      <td>0.0</td>\n",
              "      <td>0.0</td>\n",
              "      <td>0.0</td>\n",
              "      <td>0.0</td>\n",
              "      <td>0.0</td>\n",
              "      <td>0.0</td>\n",
              "      <td>0.0</td>\n",
              "      <td>0.0</td>\n",
              "      <td>0.0</td>\n",
              "      <td>...</td>\n",
              "      <td>0.0</td>\n",
              "      <td>0.0</td>\n",
              "      <td>0.0</td>\n",
              "      <td>0.0</td>\n",
              "      <td>0.0</td>\n",
              "      <td>0.0</td>\n",
              "      <td>0.0</td>\n",
              "      <td>0.0</td>\n",
              "      <td>0.0</td>\n",
              "      <td>0.0</td>\n",
              "    </tr>\n",
              "    <tr>\n",
              "      <th>31148</th>\n",
              "      <td>0.0</td>\n",
              "      <td>0.0</td>\n",
              "      <td>0.0</td>\n",
              "      <td>0.0</td>\n",
              "      <td>0.0</td>\n",
              "      <td>0.0</td>\n",
              "      <td>0.0</td>\n",
              "      <td>0.0</td>\n",
              "      <td>0.0</td>\n",
              "      <td>0.0</td>\n",
              "      <td>...</td>\n",
              "      <td>0.0</td>\n",
              "      <td>0.0</td>\n",
              "      <td>0.0</td>\n",
              "      <td>0.0</td>\n",
              "      <td>0.0</td>\n",
              "      <td>0.0</td>\n",
              "      <td>0.0</td>\n",
              "      <td>0.0</td>\n",
              "      <td>0.0</td>\n",
              "      <td>0.0</td>\n",
              "    </tr>\n",
              "  </tbody>\n",
              "</table>\n",
              "<p>31149 rows × 5000 columns</p>\n",
              "</div>\n",
              "      <button class=\"colab-df-convert\" onclick=\"convertToInteractive('df-63ece42b-1049-4994-b0d6-60a65366a36a')\"\n",
              "              title=\"Convert this dataframe to an interactive table.\"\n",
              "              style=\"display:none;\">\n",
              "        \n",
              "  <svg xmlns=\"http://www.w3.org/2000/svg\" height=\"24px\"viewBox=\"0 0 24 24\"\n",
              "       width=\"24px\">\n",
              "    <path d=\"M0 0h24v24H0V0z\" fill=\"none\"/>\n",
              "    <path d=\"M18.56 5.44l.94 2.06.94-2.06 2.06-.94-2.06-.94-.94-2.06-.94 2.06-2.06.94zm-11 1L8.5 8.5l.94-2.06 2.06-.94-2.06-.94L8.5 2.5l-.94 2.06-2.06.94zm10 10l.94 2.06.94-2.06 2.06-.94-2.06-.94-.94-2.06-.94 2.06-2.06.94z\"/><path d=\"M17.41 7.96l-1.37-1.37c-.4-.4-.92-.59-1.43-.59-.52 0-1.04.2-1.43.59L10.3 9.45l-7.72 7.72c-.78.78-.78 2.05 0 2.83L4 21.41c.39.39.9.59 1.41.59.51 0 1.02-.2 1.41-.59l7.78-7.78 2.81-2.81c.8-.78.8-2.07 0-2.86zM5.41 20L4 18.59l7.72-7.72 1.47 1.35L5.41 20z\"/>\n",
              "  </svg>\n",
              "      </button>\n",
              "      \n",
              "  <style>\n",
              "    .colab-df-container {\n",
              "      display:flex;\n",
              "      flex-wrap:wrap;\n",
              "      gap: 12px;\n",
              "    }\n",
              "\n",
              "    .colab-df-convert {\n",
              "      background-color: #E8F0FE;\n",
              "      border: none;\n",
              "      border-radius: 50%;\n",
              "      cursor: pointer;\n",
              "      display: none;\n",
              "      fill: #1967D2;\n",
              "      height: 32px;\n",
              "      padding: 0 0 0 0;\n",
              "      width: 32px;\n",
              "    }\n",
              "\n",
              "    .colab-df-convert:hover {\n",
              "      background-color: #E2EBFA;\n",
              "      box-shadow: 0px 1px 2px rgba(60, 64, 67, 0.3), 0px 1px 3px 1px rgba(60, 64, 67, 0.15);\n",
              "      fill: #174EA6;\n",
              "    }\n",
              "\n",
              "    [theme=dark] .colab-df-convert {\n",
              "      background-color: #3B4455;\n",
              "      fill: #D2E3FC;\n",
              "    }\n",
              "\n",
              "    [theme=dark] .colab-df-convert:hover {\n",
              "      background-color: #434B5C;\n",
              "      box-shadow: 0px 1px 3px 1px rgba(0, 0, 0, 0.15);\n",
              "      filter: drop-shadow(0px 1px 2px rgba(0, 0, 0, 0.3));\n",
              "      fill: #FFFFFF;\n",
              "    }\n",
              "  </style>\n",
              "\n",
              "      <script>\n",
              "        const buttonEl =\n",
              "          document.querySelector('#df-63ece42b-1049-4994-b0d6-60a65366a36a button.colab-df-convert');\n",
              "        buttonEl.style.display =\n",
              "          google.colab.kernel.accessAllowed ? 'block' : 'none';\n",
              "\n",
              "        async function convertToInteractive(key) {\n",
              "          const element = document.querySelector('#df-63ece42b-1049-4994-b0d6-60a65366a36a');\n",
              "          const dataTable =\n",
              "            await google.colab.kernel.invokeFunction('convertToInteractive',\n",
              "                                                     [key], {});\n",
              "          if (!dataTable) return;\n",
              "\n",
              "          const docLinkHtml = 'Like what you see? Visit the ' +\n",
              "            '<a target=\"_blank\" href=https://colab.research.google.com/notebooks/data_table.ipynb>data table notebook</a>'\n",
              "            + ' to learn more about interactive tables.';\n",
              "          element.innerHTML = '';\n",
              "          dataTable['output_type'] = 'display_data';\n",
              "          await google.colab.output.renderOutput(dataTable, element);\n",
              "          const docLink = document.createElement('div');\n",
              "          docLink.innerHTML = docLinkHtml;\n",
              "          element.appendChild(docLink);\n",
              "        }\n",
              "      </script>\n",
              "    </div>\n",
              "  </div>\n",
              "  "
            ]
          },
          "metadata": {},
          "execution_count": 23
        }
      ]
    },
    {
      "cell_type": "code",
      "source": [
        "scaled_X_train = scaler.fit_transform(tfidf_array_train)  # 轉為常態分佈, mean => 0, stddev => 1\n",
        "scaled_X_test = scaler.transform(tfidf_array_test) "
      ],
      "metadata": {
        "id": "S3zKi36dvHH3"
      },
      "execution_count": null,
      "outputs": []
    },
    {
      "cell_type": "code",
      "source": [
        "print(np.info(scaled_X_train))\n",
        "pd.DataFrame(scaled_X_train)"
      ],
      "metadata": {
        "colab": {
          "base_uri": "https://localhost:8080/",
          "height": 702
        },
        "id": "WtpcXU9Uthfw",
        "outputId": "cac30dc6-30b4-4f41-9a65-08374f489a2d"
      },
      "execution_count": null,
      "outputs": [
        {
          "output_type": "stream",
          "name": "stdout",
          "text": [
            "class:  ndarray\n",
            "shape:  (31149, 5000)\n",
            "strides:  (40000, 8)\n",
            "itemsize:  8\n",
            "aligned:  True\n",
            "contiguous:  True\n",
            "fortran:  False\n",
            "data pointer: 0x127a96000\n",
            "byteorder:  little\n",
            "byteswap:  False\n",
            "type: float64\n",
            "None\n"
          ]
        },
        {
          "output_type": "execute_result",
          "data": {
            "text/plain": [
              "           0         1         2         3         4        5        6     \\\n",
              "0     -0.058045 -0.062036 -0.027422 -0.015297 -0.013396 -0.01551 -0.01672   \n",
              "1     -0.058045 -0.062036 -0.027422 -0.015297 -0.013396 -0.01551 -0.01672   \n",
              "2     -0.058045 -0.062036 -0.027422 -0.015297 -0.013396 -0.01551 -0.01672   \n",
              "3     -0.058045 -0.062036 -0.027422 -0.015297 -0.013396 -0.01551 -0.01672   \n",
              "4     -0.058045 -0.062036 -0.027422 -0.015297 -0.013396 -0.01551 -0.01672   \n",
              "...         ...       ...       ...       ...       ...      ...      ...   \n",
              "31144 -0.058045 -0.062036 -0.027422 -0.015297 -0.013396 -0.01551 -0.01672   \n",
              "31145 -0.058045 -0.062036 -0.027422 -0.015297 -0.013396 -0.01551 -0.01672   \n",
              "31146 -0.058045 -0.062036 -0.027422 -0.015297 -0.013396 -0.01551 -0.01672   \n",
              "31147 -0.058045 -0.062036 -0.027422 -0.015297 -0.013396 -0.01551 -0.01672   \n",
              "31148 -0.058045 -0.062036 -0.027422 -0.015297 -0.013396 -0.01551 -0.01672   \n",
              "\n",
              "           7         8         9     ...     4990      4991     4992  \\\n",
              "0     -0.034849 -0.025651 -0.053143  ... -0.01457 -0.026566 -0.01464   \n",
              "1     -0.034849 -0.025651 -0.053143  ... -0.01457 -0.026566 -0.01464   \n",
              "2     -0.034849 -0.025651 -0.053143  ... -0.01457 -0.026566 -0.01464   \n",
              "3     -0.034849 -0.025651 -0.053143  ... -0.01457 -0.026566 -0.01464   \n",
              "4     -0.034849 -0.025651 -0.053143  ... -0.01457 -0.026566 -0.01464   \n",
              "...         ...       ...       ...  ...      ...       ...      ...   \n",
              "31144 -0.034849 -0.025651 -0.053143  ... -0.01457 -0.026566 -0.01464   \n",
              "31145 -0.034849 -0.025651 -0.053143  ... -0.01457 -0.026566 -0.01464   \n",
              "31146 -0.034849 -0.025651 -0.053143  ... -0.01457 -0.026566 -0.01464   \n",
              "31147 -0.034849 -0.025651 -0.053143  ... -0.01457 -0.026566 -0.01464   \n",
              "31148 -0.034849 -0.025651 -0.053143  ... -0.01457 -0.026566 -0.01464   \n",
              "\n",
              "           4993      4994      4995      4996      4997      4998      4999  \n",
              "0     -0.014464 -0.017625 -0.040924 -0.014816 -0.021896 -0.017303 -0.017777  \n",
              "1     -0.014464 -0.017625 -0.040924 -0.014816 -0.021896 -0.017303 -0.017777  \n",
              "2     -0.014464 -0.017625 -0.040924 -0.014816 -0.021896 -0.017303 -0.017777  \n",
              "3     -0.014464 -0.017625 -0.040924 -0.014816 -0.021896 -0.017303 -0.017777  \n",
              "4     -0.014464 -0.017625 -0.040924 -0.014816 -0.021896 -0.017303 -0.017777  \n",
              "...         ...       ...       ...       ...       ...       ...       ...  \n",
              "31144 -0.014464 -0.017625 -0.040924 -0.014816 -0.021896 -0.017303 -0.017777  \n",
              "31145 -0.014464 -0.017625 -0.040924 -0.014816 -0.021896 -0.017303 -0.017777  \n",
              "31146 -0.014464 -0.017625 -0.040924 -0.014816 -0.021896 -0.017303 -0.017777  \n",
              "31147 -0.014464 -0.017625 -0.040924 -0.014816 -0.021896 -0.017303 -0.017777  \n",
              "31148 -0.014464 -0.017625 -0.040924 -0.014816 -0.021896 -0.017303 -0.017777  \n",
              "\n",
              "[31149 rows x 5000 columns]"
            ],
            "text/html": [
              "\n",
              "  <div id=\"df-f468895f-76a7-4bba-9a3f-e4ac05f76734\">\n",
              "    <div class=\"colab-df-container\">\n",
              "      <div>\n",
              "<style scoped>\n",
              "    .dataframe tbody tr th:only-of-type {\n",
              "        vertical-align: middle;\n",
              "    }\n",
              "\n",
              "    .dataframe tbody tr th {\n",
              "        vertical-align: top;\n",
              "    }\n",
              "\n",
              "    .dataframe thead th {\n",
              "        text-align: right;\n",
              "    }\n",
              "</style>\n",
              "<table border=\"1\" class=\"dataframe\">\n",
              "  <thead>\n",
              "    <tr style=\"text-align: right;\">\n",
              "      <th></th>\n",
              "      <th>0</th>\n",
              "      <th>1</th>\n",
              "      <th>2</th>\n",
              "      <th>3</th>\n",
              "      <th>4</th>\n",
              "      <th>5</th>\n",
              "      <th>6</th>\n",
              "      <th>7</th>\n",
              "      <th>8</th>\n",
              "      <th>9</th>\n",
              "      <th>...</th>\n",
              "      <th>4990</th>\n",
              "      <th>4991</th>\n",
              "      <th>4992</th>\n",
              "      <th>4993</th>\n",
              "      <th>4994</th>\n",
              "      <th>4995</th>\n",
              "      <th>4996</th>\n",
              "      <th>4997</th>\n",
              "      <th>4998</th>\n",
              "      <th>4999</th>\n",
              "    </tr>\n",
              "  </thead>\n",
              "  <tbody>\n",
              "    <tr>\n",
              "      <th>0</th>\n",
              "      <td>-0.058045</td>\n",
              "      <td>-0.062036</td>\n",
              "      <td>-0.027422</td>\n",
              "      <td>-0.015297</td>\n",
              "      <td>-0.013396</td>\n",
              "      <td>-0.01551</td>\n",
              "      <td>-0.01672</td>\n",
              "      <td>-0.034849</td>\n",
              "      <td>-0.025651</td>\n",
              "      <td>-0.053143</td>\n",
              "      <td>...</td>\n",
              "      <td>-0.01457</td>\n",
              "      <td>-0.026566</td>\n",
              "      <td>-0.01464</td>\n",
              "      <td>-0.014464</td>\n",
              "      <td>-0.017625</td>\n",
              "      <td>-0.040924</td>\n",
              "      <td>-0.014816</td>\n",
              "      <td>-0.021896</td>\n",
              "      <td>-0.017303</td>\n",
              "      <td>-0.017777</td>\n",
              "    </tr>\n",
              "    <tr>\n",
              "      <th>1</th>\n",
              "      <td>-0.058045</td>\n",
              "      <td>-0.062036</td>\n",
              "      <td>-0.027422</td>\n",
              "      <td>-0.015297</td>\n",
              "      <td>-0.013396</td>\n",
              "      <td>-0.01551</td>\n",
              "      <td>-0.01672</td>\n",
              "      <td>-0.034849</td>\n",
              "      <td>-0.025651</td>\n",
              "      <td>-0.053143</td>\n",
              "      <td>...</td>\n",
              "      <td>-0.01457</td>\n",
              "      <td>-0.026566</td>\n",
              "      <td>-0.01464</td>\n",
              "      <td>-0.014464</td>\n",
              "      <td>-0.017625</td>\n",
              "      <td>-0.040924</td>\n",
              "      <td>-0.014816</td>\n",
              "      <td>-0.021896</td>\n",
              "      <td>-0.017303</td>\n",
              "      <td>-0.017777</td>\n",
              "    </tr>\n",
              "    <tr>\n",
              "      <th>2</th>\n",
              "      <td>-0.058045</td>\n",
              "      <td>-0.062036</td>\n",
              "      <td>-0.027422</td>\n",
              "      <td>-0.015297</td>\n",
              "      <td>-0.013396</td>\n",
              "      <td>-0.01551</td>\n",
              "      <td>-0.01672</td>\n",
              "      <td>-0.034849</td>\n",
              "      <td>-0.025651</td>\n",
              "      <td>-0.053143</td>\n",
              "      <td>...</td>\n",
              "      <td>-0.01457</td>\n",
              "      <td>-0.026566</td>\n",
              "      <td>-0.01464</td>\n",
              "      <td>-0.014464</td>\n",
              "      <td>-0.017625</td>\n",
              "      <td>-0.040924</td>\n",
              "      <td>-0.014816</td>\n",
              "      <td>-0.021896</td>\n",
              "      <td>-0.017303</td>\n",
              "      <td>-0.017777</td>\n",
              "    </tr>\n",
              "    <tr>\n",
              "      <th>3</th>\n",
              "      <td>-0.058045</td>\n",
              "      <td>-0.062036</td>\n",
              "      <td>-0.027422</td>\n",
              "      <td>-0.015297</td>\n",
              "      <td>-0.013396</td>\n",
              "      <td>-0.01551</td>\n",
              "      <td>-0.01672</td>\n",
              "      <td>-0.034849</td>\n",
              "      <td>-0.025651</td>\n",
              "      <td>-0.053143</td>\n",
              "      <td>...</td>\n",
              "      <td>-0.01457</td>\n",
              "      <td>-0.026566</td>\n",
              "      <td>-0.01464</td>\n",
              "      <td>-0.014464</td>\n",
              "      <td>-0.017625</td>\n",
              "      <td>-0.040924</td>\n",
              "      <td>-0.014816</td>\n",
              "      <td>-0.021896</td>\n",
              "      <td>-0.017303</td>\n",
              "      <td>-0.017777</td>\n",
              "    </tr>\n",
              "    <tr>\n",
              "      <th>4</th>\n",
              "      <td>-0.058045</td>\n",
              "      <td>-0.062036</td>\n",
              "      <td>-0.027422</td>\n",
              "      <td>-0.015297</td>\n",
              "      <td>-0.013396</td>\n",
              "      <td>-0.01551</td>\n",
              "      <td>-0.01672</td>\n",
              "      <td>-0.034849</td>\n",
              "      <td>-0.025651</td>\n",
              "      <td>-0.053143</td>\n",
              "      <td>...</td>\n",
              "      <td>-0.01457</td>\n",
              "      <td>-0.026566</td>\n",
              "      <td>-0.01464</td>\n",
              "      <td>-0.014464</td>\n",
              "      <td>-0.017625</td>\n",
              "      <td>-0.040924</td>\n",
              "      <td>-0.014816</td>\n",
              "      <td>-0.021896</td>\n",
              "      <td>-0.017303</td>\n",
              "      <td>-0.017777</td>\n",
              "    </tr>\n",
              "    <tr>\n",
              "      <th>...</th>\n",
              "      <td>...</td>\n",
              "      <td>...</td>\n",
              "      <td>...</td>\n",
              "      <td>...</td>\n",
              "      <td>...</td>\n",
              "      <td>...</td>\n",
              "      <td>...</td>\n",
              "      <td>...</td>\n",
              "      <td>...</td>\n",
              "      <td>...</td>\n",
              "      <td>...</td>\n",
              "      <td>...</td>\n",
              "      <td>...</td>\n",
              "      <td>...</td>\n",
              "      <td>...</td>\n",
              "      <td>...</td>\n",
              "      <td>...</td>\n",
              "      <td>...</td>\n",
              "      <td>...</td>\n",
              "      <td>...</td>\n",
              "      <td>...</td>\n",
              "    </tr>\n",
              "    <tr>\n",
              "      <th>31144</th>\n",
              "      <td>-0.058045</td>\n",
              "      <td>-0.062036</td>\n",
              "      <td>-0.027422</td>\n",
              "      <td>-0.015297</td>\n",
              "      <td>-0.013396</td>\n",
              "      <td>-0.01551</td>\n",
              "      <td>-0.01672</td>\n",
              "      <td>-0.034849</td>\n",
              "      <td>-0.025651</td>\n",
              "      <td>-0.053143</td>\n",
              "      <td>...</td>\n",
              "      <td>-0.01457</td>\n",
              "      <td>-0.026566</td>\n",
              "      <td>-0.01464</td>\n",
              "      <td>-0.014464</td>\n",
              "      <td>-0.017625</td>\n",
              "      <td>-0.040924</td>\n",
              "      <td>-0.014816</td>\n",
              "      <td>-0.021896</td>\n",
              "      <td>-0.017303</td>\n",
              "      <td>-0.017777</td>\n",
              "    </tr>\n",
              "    <tr>\n",
              "      <th>31145</th>\n",
              "      <td>-0.058045</td>\n",
              "      <td>-0.062036</td>\n",
              "      <td>-0.027422</td>\n",
              "      <td>-0.015297</td>\n",
              "      <td>-0.013396</td>\n",
              "      <td>-0.01551</td>\n",
              "      <td>-0.01672</td>\n",
              "      <td>-0.034849</td>\n",
              "      <td>-0.025651</td>\n",
              "      <td>-0.053143</td>\n",
              "      <td>...</td>\n",
              "      <td>-0.01457</td>\n",
              "      <td>-0.026566</td>\n",
              "      <td>-0.01464</td>\n",
              "      <td>-0.014464</td>\n",
              "      <td>-0.017625</td>\n",
              "      <td>-0.040924</td>\n",
              "      <td>-0.014816</td>\n",
              "      <td>-0.021896</td>\n",
              "      <td>-0.017303</td>\n",
              "      <td>-0.017777</td>\n",
              "    </tr>\n",
              "    <tr>\n",
              "      <th>31146</th>\n",
              "      <td>-0.058045</td>\n",
              "      <td>-0.062036</td>\n",
              "      <td>-0.027422</td>\n",
              "      <td>-0.015297</td>\n",
              "      <td>-0.013396</td>\n",
              "      <td>-0.01551</td>\n",
              "      <td>-0.01672</td>\n",
              "      <td>-0.034849</td>\n",
              "      <td>-0.025651</td>\n",
              "      <td>-0.053143</td>\n",
              "      <td>...</td>\n",
              "      <td>-0.01457</td>\n",
              "      <td>-0.026566</td>\n",
              "      <td>-0.01464</td>\n",
              "      <td>-0.014464</td>\n",
              "      <td>-0.017625</td>\n",
              "      <td>-0.040924</td>\n",
              "      <td>-0.014816</td>\n",
              "      <td>-0.021896</td>\n",
              "      <td>-0.017303</td>\n",
              "      <td>-0.017777</td>\n",
              "    </tr>\n",
              "    <tr>\n",
              "      <th>31147</th>\n",
              "      <td>-0.058045</td>\n",
              "      <td>-0.062036</td>\n",
              "      <td>-0.027422</td>\n",
              "      <td>-0.015297</td>\n",
              "      <td>-0.013396</td>\n",
              "      <td>-0.01551</td>\n",
              "      <td>-0.01672</td>\n",
              "      <td>-0.034849</td>\n",
              "      <td>-0.025651</td>\n",
              "      <td>-0.053143</td>\n",
              "      <td>...</td>\n",
              "      <td>-0.01457</td>\n",
              "      <td>-0.026566</td>\n",
              "      <td>-0.01464</td>\n",
              "      <td>-0.014464</td>\n",
              "      <td>-0.017625</td>\n",
              "      <td>-0.040924</td>\n",
              "      <td>-0.014816</td>\n",
              "      <td>-0.021896</td>\n",
              "      <td>-0.017303</td>\n",
              "      <td>-0.017777</td>\n",
              "    </tr>\n",
              "    <tr>\n",
              "      <th>31148</th>\n",
              "      <td>-0.058045</td>\n",
              "      <td>-0.062036</td>\n",
              "      <td>-0.027422</td>\n",
              "      <td>-0.015297</td>\n",
              "      <td>-0.013396</td>\n",
              "      <td>-0.01551</td>\n",
              "      <td>-0.01672</td>\n",
              "      <td>-0.034849</td>\n",
              "      <td>-0.025651</td>\n",
              "      <td>-0.053143</td>\n",
              "      <td>...</td>\n",
              "      <td>-0.01457</td>\n",
              "      <td>-0.026566</td>\n",
              "      <td>-0.01464</td>\n",
              "      <td>-0.014464</td>\n",
              "      <td>-0.017625</td>\n",
              "      <td>-0.040924</td>\n",
              "      <td>-0.014816</td>\n",
              "      <td>-0.021896</td>\n",
              "      <td>-0.017303</td>\n",
              "      <td>-0.017777</td>\n",
              "    </tr>\n",
              "  </tbody>\n",
              "</table>\n",
              "<p>31149 rows × 5000 columns</p>\n",
              "</div>\n",
              "      <button class=\"colab-df-convert\" onclick=\"convertToInteractive('df-f468895f-76a7-4bba-9a3f-e4ac05f76734')\"\n",
              "              title=\"Convert this dataframe to an interactive table.\"\n",
              "              style=\"display:none;\">\n",
              "        \n",
              "  <svg xmlns=\"http://www.w3.org/2000/svg\" height=\"24px\"viewBox=\"0 0 24 24\"\n",
              "       width=\"24px\">\n",
              "    <path d=\"M0 0h24v24H0V0z\" fill=\"none\"/>\n",
              "    <path d=\"M18.56 5.44l.94 2.06.94-2.06 2.06-.94-2.06-.94-.94-2.06-.94 2.06-2.06.94zm-11 1L8.5 8.5l.94-2.06 2.06-.94-2.06-.94L8.5 2.5l-.94 2.06-2.06.94zm10 10l.94 2.06.94-2.06 2.06-.94-2.06-.94-.94-2.06-.94 2.06-2.06.94z\"/><path d=\"M17.41 7.96l-1.37-1.37c-.4-.4-.92-.59-1.43-.59-.52 0-1.04.2-1.43.59L10.3 9.45l-7.72 7.72c-.78.78-.78 2.05 0 2.83L4 21.41c.39.39.9.59 1.41.59.51 0 1.02-.2 1.41-.59l7.78-7.78 2.81-2.81c.8-.78.8-2.07 0-2.86zM5.41 20L4 18.59l7.72-7.72 1.47 1.35L5.41 20z\"/>\n",
              "  </svg>\n",
              "      </button>\n",
              "      \n",
              "  <style>\n",
              "    .colab-df-container {\n",
              "      display:flex;\n",
              "      flex-wrap:wrap;\n",
              "      gap: 12px;\n",
              "    }\n",
              "\n",
              "    .colab-df-convert {\n",
              "      background-color: #E8F0FE;\n",
              "      border: none;\n",
              "      border-radius: 50%;\n",
              "      cursor: pointer;\n",
              "      display: none;\n",
              "      fill: #1967D2;\n",
              "      height: 32px;\n",
              "      padding: 0 0 0 0;\n",
              "      width: 32px;\n",
              "    }\n",
              "\n",
              "    .colab-df-convert:hover {\n",
              "      background-color: #E2EBFA;\n",
              "      box-shadow: 0px 1px 2px rgba(60, 64, 67, 0.3), 0px 1px 3px 1px rgba(60, 64, 67, 0.15);\n",
              "      fill: #174EA6;\n",
              "    }\n",
              "\n",
              "    [theme=dark] .colab-df-convert {\n",
              "      background-color: #3B4455;\n",
              "      fill: #D2E3FC;\n",
              "    }\n",
              "\n",
              "    [theme=dark] .colab-df-convert:hover {\n",
              "      background-color: #434B5C;\n",
              "      box-shadow: 0px 1px 3px 1px rgba(0, 0, 0, 0.15);\n",
              "      filter: drop-shadow(0px 1px 2px rgba(0, 0, 0, 0.3));\n",
              "      fill: #FFFFFF;\n",
              "    }\n",
              "  </style>\n",
              "\n",
              "      <script>\n",
              "        const buttonEl =\n",
              "          document.querySelector('#df-f468895f-76a7-4bba-9a3f-e4ac05f76734 button.colab-df-convert');\n",
              "        buttonEl.style.display =\n",
              "          google.colab.kernel.accessAllowed ? 'block' : 'none';\n",
              "\n",
              "        async function convertToInteractive(key) {\n",
              "          const element = document.querySelector('#df-f468895f-76a7-4bba-9a3f-e4ac05f76734');\n",
              "          const dataTable =\n",
              "            await google.colab.kernel.invokeFunction('convertToInteractive',\n",
              "                                                     [key], {});\n",
              "          if (!dataTable) return;\n",
              "\n",
              "          const docLinkHtml = 'Like what you see? Visit the ' +\n",
              "            '<a target=\"_blank\" href=https://colab.research.google.com/notebooks/data_table.ipynb>data table notebook</a>'\n",
              "            + ' to learn more about interactive tables.';\n",
              "          element.innerHTML = '';\n",
              "          dataTable['output_type'] = 'display_data';\n",
              "          await google.colab.output.renderOutput(dataTable, element);\n",
              "          const docLink = document.createElement('div');\n",
              "          docLink.innerHTML = docLinkHtml;\n",
              "          element.appendChild(docLink);\n",
              "        }\n",
              "      </script>\n",
              "    </div>\n",
              "  </div>\n",
              "  "
            ]
          },
          "metadata": {},
          "execution_count": 59
        }
      ]
    },
    {
      "cell_type": "markdown",
      "source": [
        "# Model Training\n"
      ],
      "metadata": {
        "id": "VWt3nByJcU7i"
      }
    },
    {
      "cell_type": "code",
      "source": [
        "from sklearn.metrics import plot_confusion_matrix, classification_report\n",
        "from sklearn.experimental import enable_halving_search_cv\n",
        "from sklearn.model_selection import HalvingGridSearchCV"
      ],
      "metadata": {
        "id": "h52KDV9ocW4x"
      },
      "execution_count": null,
      "outputs": []
    },
    {
      "cell_type": "code",
      "source": [
        "# Neural Networks\n",
        "from sklearn.neural_network import MLPClassifier\n",
        "nn_model = MLPClassifier(hidden_layer_sizes=(100), activation = 'logistic', max_iter = 15)  # Sigmoid Activation Function, epoch=15, hidden layer =100\n",
        "# 用halvinggridsearchCV(自動調整參數) \n",
        "param_grid = {'learning_rate_init': [0.001, 0.0015, 0.002]} # 設定參數\n",
        "grid_nn_model = HalvingGridSearchCV(nn_model, param_grid = param_grid, n_jobs=-1)\n",
        "grid_nn_model.fit(X_train_tfidf, y_train) # 評估模型準確度"
      ],
      "metadata": {
        "colab": {
          "base_uri": "https://localhost:8080/"
        },
        "id": "ksgKrBWUJKlU",
        "outputId": "14e5054c-9a40-4355-ffac-0ee0b8397def"
      },
      "execution_count": null,
      "outputs": [
        {
          "output_type": "execute_result",
          "data": {
            "text/plain": [
              "HalvingGridSearchCV(estimator=MLPClassifier(activation='logistic',\n",
              "                                            hidden_layer_sizes=100,\n",
              "                                            max_iter=15),\n",
              "                    n_jobs=-1,\n",
              "                    param_grid={'learning_rate_init': [0.001, 0.0015, 0.002]})"
            ]
          },
          "metadata": {},
          "execution_count": 39
        }
      ]
    },
    {
      "cell_type": "code",
      "source": [
        "# result\n",
        "print(f\"最佳準確率: {grid_nn_model.best_score_}，最佳參數組合：{grid_nn_model.best_params_} \\n\") # 找到最佳的參數\n",
        "preds_grid_nn_model = grid_nn_model.predict(X_test_tfidf) # 使用模型進行預測\n",
        "print(classification_report(y_test, preds_grid_nn_model)) # 比較預測和實際結果差異\n",
        "plot_confusion_matrix(grid_nn_model, X_test_tfidf, y_test) # 顯示於confusion matrix"
      ],
      "metadata": {
        "colab": {
          "base_uri": "https://localhost:8080/",
          "height": 564
        },
        "id": "mCjtZtmqzsda",
        "outputId": "a63f1d66-8b1a-432f-94ed-9d5da2d9986f"
      },
      "execution_count": null,
      "outputs": [
        {
          "output_type": "stream",
          "name": "stdout",
          "text": [
            "最佳準確率: 0.9048230593607306，最佳參數組合：{'learning_rate_init': 0.0015} \n",
            "\n",
            "                   precision    recall  f1-score   support\n",
            "\n",
            "              age       0.96      0.95      0.96       810\n",
            "        ethnicity       0.97      0.97      0.97       760\n",
            "           gender       0.88      0.85      0.87       790\n",
            "not_cyberbullying       0.78      0.82      0.80       783\n",
            "         religion       0.94      0.93      0.94       751\n",
            "\n",
            "         accuracy                           0.91      3894\n",
            "        macro avg       0.91      0.91      0.91      3894\n",
            "     weighted avg       0.91      0.91      0.91      3894\n",
            "\n"
          ]
        },
        {
          "output_type": "execute_result",
          "data": {
            "text/plain": [
              "<sklearn.metrics._plot.confusion_matrix.ConfusionMatrixDisplay at 0x7f51ed3c1810>"
            ]
          },
          "metadata": {},
          "execution_count": 40
        },
        {
          "output_type": "display_data",
          "data": {
            "text/plain": [
              "<Figure size 432x288 with 2 Axes>"
            ],
            "image/png": "[encoded data removed]"
          },
          "metadata": {
            "needs_background": "light"
          }
        }
      ]
    },
    {
      "cell_type": "markdown",
      "source": [
        "# Pipeline Creation"
      ],
      "metadata": {
        "id": "JKSN_B40cutD"
      }
    },
    {
      "cell_type": "code",
      "source": [
        "# Creating a pipeline\n",
        "from sklearn.pipeline import Pipeline\n",
        "# combine all the previous steps: tfidf and model training\n",
        "pipe = Pipeline([('tfidf', TfidfVectorizer(max_features = 5000)), ('nn', MLPClassifier())])\n",
        "pipe.fit(X, y) # all data from df[clean_text] and df[cyberbullying type]\n",
        "pipe.score(X,y)"
      ],
      "metadata": {
        "colab": {
          "base_uri": "https://localhost:8080/"
        },
        "id": "GZB-z434cvY5",
        "outputId": "65989077-eda7-4bdf-f3ec-ad9faec69c75"
      },
      "execution_count": null,
      "outputs": [
        {
          "output_type": "execute_result",
          "data": {
            "text/plain": [
              "0.9977399388756196"
            ]
          },
          "metadata": {},
          "execution_count": 32
        }
      ]
    },
    {
      "cell_type": "markdown",
      "source": [
        "# Gradio\n"
      ],
      "metadata": {
        "id": "PmhYTdz6uzZD"
      }
    },
    {
      "cell_type": "code",
      "source": [
        "!pip install Gradio"
      ],
      "metadata": {
        "id": "sifjybclu5kZ"
      },
      "execution_count": null,
      "outputs": []
    },
    {
      "cell_type": "code",
      "source": [
        "import gradio as gr"
      ],
      "metadata": {
        "id": "rI7hk_FLvcTh"
      },
      "execution_count": null,
      "outputs": []
    },
    {
      "cell_type": "code",
      "source": [
        "def result(text):\n",
        "  res = pipe.predict([text])\n",
        "  return res[0]\n",
        "inputs = gr.Textbox()\n",
        "# create gradio app\n",
        "app = gr.Interface(fn=result, inputs=inputs, outputs=\"text\", title=\"cyberbullying classification\")\n",
        "app.launch()"
      ],
      "metadata": {
        "colab": {
          "base_uri": "https://localhost:8080/",
          "height": 664
        },
        "id": "_x9meFapvldK",
        "outputId": "ad69ea2e-cd52-403a-974f-a1a0e81a5bee"
      },
      "execution_count": null,
      "outputs": [
        {
          "output_type": "stream",
          "name": "stdout",
          "text": [
            "Colab notebook detected. To show errors in colab notebook, set `debug=True` in `launch()`\n",
            "Running on public URL: https://20861.gradio.app\n",
            "\n",
            "This share link expires in 72 hours. For free permanent hosting, check out Spaces (https://huggingface.co/spaces)\n"
          ]
        },
        {
          "output_type": "display_data",
          "data": {
            "text/plain": [
              "<IPython.lib.display.IFrame at 0x7fe29c354fd0>"
            ],
            "text/html": [
              "\n",
              "        <iframe\n",
              "            width=\"900\"\n",
              "            height=\"500\"\n",
              "            src=\"https://20861.gradio.app\"\n",
              "            frameborder=\"0\"\n",
              "            allowfullscreen\n",
              "        ></iframe>\n",
              "        "
            ]
          },
          "metadata": {}
        },
        {
          "output_type": "execute_result",
          "data": {
            "text/plain": [
              "(<gradio.routes.App at 0x7fe29c0f22d0>,\n",
              " 'http://127.0.0.1:7861/',\n",
              " 'https://20861.gradio.app')"
            ]
          },
          "metadata": {},
          "execution_count": 52
        }
      ]
    },
    {
      "cell_type": "code",
      "source": [
        ""
      ],
      "metadata": {
        "id": "nGyon2jT7ppo"
      },
      "execution_count": null,
      "outputs": []
    }
  ]
}